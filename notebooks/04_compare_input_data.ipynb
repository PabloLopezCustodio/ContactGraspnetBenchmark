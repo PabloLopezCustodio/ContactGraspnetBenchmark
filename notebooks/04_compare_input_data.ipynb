{
 "cells": [
  {
   "cell_type": "code",
   "execution_count": 38,
   "metadata": {},
   "outputs": [],
   "source": [
    "from pathlib import Path\n",
    "\n",
    "from matplotlib import pyplot as plt\n",
    "import numpy as np\n",
    "import skimage as ski\n",
    "\n",
    "from contact_graspnet.dataloading import OrigExampleData, YCBSimulationData\n",
    "from contact_graspnet.utils.misc import get_root_dir\n",
    "from contact_graspnet.preprocessing import Img2CamCoords, Depth2ImgPoints, ZClipper, UniversalPreprocessor, BinarySegmentationSample"
   ]
  },
  {
   "cell_type": "code",
   "execution_count": 39,
   "metadata": {},
   "outputs": [],
   "source": [
    "skip_obj_names = [\n",
    "    \"018_pitcher_base\",\n",
    "    \"019_bleach_cleanser\",\n",
    "    \"021_bowl\",\n",
    "    \"025_plate\",\n",
    "    \"026_fork\",\n",
    "    \"039_hammer\",\n",
    "    \"042_large_clamp\",\n",
    "    \"056_b_cups\",\n",
    "    \"058_d_cups\",\n",
    "    \"059_e_cups\",\n",
    "    \"084_j_lego_duplo\",\n",
    "]\n",
    "datasets = [\n",
    "    OrigExampleData(\n",
    "        get_root_dir() / \"data\" / \"raw\" / \"orig_test_data\",\n",
    "        transform=BinarySegmentationSample(1.0),\n",
    "    ),\n",
    "    OrigExampleData(\n",
    "        get_root_dir() / \"data\" / \"raw\" / \"orig_test_data\",\n",
    "        transform=BinarySegmentationSample(2.0),\n",
    "    ),\n",
    "    OrigExampleData(\n",
    "        get_root_dir() / \"data\" / \"raw\" / \"orig_test_data\",\n",
    "        transform=BinarySegmentationSample(3.0),\n",
    "    ),\n",
    "    YCBSimulationData(\n",
    "        Path.home() / \"Documents\" / \"ycb_sim_data_1\", invalid_objs=skip_obj_names\n",
    "    ),\n",
    "    YCBSimulationData(\n",
    "        Path.home() / \"Documents\" / \"ycb_sim_data_2\", invalid_objs=skip_obj_names\n",
    "    ),\n",
    "    YCBSimulationData(\n",
    "        Path.home() / \"Documents\" / \"ycb_sim_data_3\", invalid_objs=skip_obj_names\n",
    "    ),\n",
    "]\n"
   ]
  },
  {
   "cell_type": "code",
   "execution_count": 49,
   "metadata": {},
   "outputs": [
    {
     "data": {
      "text/plain": [
       "(480, 640)"
      ]
     },
     "execution_count": 49,
     "metadata": {},
     "output_type": "execute_result"
    }
   ],
   "source": [
    "datasets[3][0].depth.shape"
   ]
  },
  {
   "cell_type": "code",
   "execution_count": 42,
   "metadata": {},
   "outputs": [
    {
     "data": {
      "text/plain": [
       "<matplotlib.image.AxesImage at 0x7f0610a17f10>"
      ]
     },
     "execution_count": 42,
     "metadata": {},
     "output_type": "execute_result"
    },
    {
     "data": {
      "image/png": "[encoded data removed]",
      "text/plain": [
       "<Figure size 640x480 with 1 Axes>"
      ]
     },
     "metadata": {},
     "output_type": "display_data"
    }
   ],
   "source": [
    "resized_depth = ski.transform.resize(datasets[3][0].depth, (720, 1280))\n",
    "\n",
    "plt.imshow(resized_depth)\n",
    "# datasets[3][0].depth"
   ]
  },
  {
   "cell_type": "code",
   "execution_count": 17,
   "metadata": {},
   "outputs": [],
   "source": [
    "preprocessor = UniversalPreprocessor(\n",
    "    depth2points_converter = Depth2ImgPoints(),\n",
    "    img2cam_converter= Img2CamCoords(),\n",
    "    z_clipper=ZClipper([-np.inf, np.inf]),\n",
    ")"
   ]
  },
  {
   "cell_type": "code",
   "execution_count": 18,
   "metadata": {},
   "outputs": [
    {
     "name": "stdout",
     "output_type": "stream",
     "text": [
      "### orig_test_data ###\n",
      "full_pc     : mean: 921600, std: 0\n",
      "segmented_pc: mean: 15505, std: 10043\n",
      "### orig_test_data ###\n",
      "full_pc     : mean: 921600, std: 0\n",
      "segmented_pc: mean: 16686, std: 7174\n",
      "### orig_test_data ###\n",
      "full_pc     : mean: 921600, std: 0\n",
      "segmented_pc: mean: 22494, std: 15297\n",
      "### ycb_sim_data_1 ###\n",
      "full_pc     : mean: 307200, std: 0\n",
      "segmented_pc: mean: 2218, std: 2342\n",
      "### ycb_sim_data_2 ###\n",
      "full_pc     : mean: 307200, std: 0\n",
      "segmented_pc: mean: 2243, std: 2208\n",
      "### ycb_sim_data_3 ###\n",
      "full_pc     : mean: 307200, std: 0\n",
      "segmented_pc: mean: 2012, std: 2050\n"
     ]
    }
   ],
   "source": [
    "### compare number of points in full and segmented pc ###\n",
    "\n",
    "for dataset in datasets:\n",
    "    n_points_full = []\n",
    "    n_points_segmented = []\n",
    "    for i in range(len(dataset)):\n",
    "        sample = dataset[i]\n",
    "\n",
    "        full_pc, segmented_pc = preprocessor(sample)\n",
    "        n_points_full.append(len(full_pc))\n",
    "        n_points_segmented.append(len(segmented_pc))\n",
    "\n",
    "    n_points_full = np.array(n_points_full)\n",
    "    n_points_segmented = np.array(n_points_segmented)\n",
    "\n",
    "    print(f\"### {dataset.root_dir.name} ###\")\n",
    "    print(f\"full_pc     : mean: {int(n_points_full.mean())}, std: {int(n_points_full.std())}\")\n",
    "    print(f\"segmented_pc: mean: {int(n_points_segmented.mean())}, std: {int(n_points_segmented.std())}\")\n"
   ]
  }
 ],
 "metadata": {
  "kernelspec": {
   "display_name": "contact",
   "language": "python",
   "name": "python3"
  },
  "language_info": {
   "codemirror_mode": {
    "name": "ipython",
    "version": 3
   },
   "file_extension": ".py",
   "mimetype": "text/x-python",
   "name": "python",
   "nbconvert_exporter": "python",
   "pygments_lexer": "ipython3",
   "version": "3.7.12"
  },
  "orig_nbformat": 4,
  "vscode": {
   "interpreter": {
    "hash": "f37de04192e517ffd79099b0aa4f8a9ead4a2e1f477df475e17b2f61b1624210"
   }
  }
 },
 "nbformat": 4,
 "nbformat_minor": 2
}
