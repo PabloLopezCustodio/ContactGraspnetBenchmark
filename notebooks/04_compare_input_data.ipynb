{
 "cells": [
  {
   "cell_type": "code",
   "execution_count": null,
   "metadata": {},
   "outputs": [],
   "source": [
    "from pathlib import Path\n",
    "\n",
    "from matplotlib import pyplot as plt\n",
    "import numpy as np\n",
    "\n",
    "from contact_graspnet.dataloading import OrigExampleData, YCBSimulationData\n",
    "from contact_graspnet.utils.misc import get_root_dir\n",
    "from contact_graspnet.preprocessing import Img2CamCoords, Depth2ImgPoints, ZClipper, UniversalPreprocessor, BinarySegmentationSample"
   ]
  },
  {
   "cell_type": "code",
   "execution_count": null,
   "metadata": {},
   "outputs": [],
   "source": [
    "\n",
    "datasets = [\n",
    "    OrigExampleData(get_root_dir() / \"data\" / \"raw\" / \"orig_test_data\", transform=BinarySegmentationSample(1.0))\n",
    "    OrigExampleData(get_root_dir() / \"data\" / \"raw\" / \"orig_test_data\", transform=BinarySegmentationSample(2.0))\n",
    "    OrigExampleData(get_root_dir() / \"data\" / \"raw\" / \"orig_test_data\", transform=BinarySegmentationSample(3.0))\n",
    "    YCBSimulationData(Path.home() / \"Documents\" / \"ycb_sim_data_1\"),\n",
    "    YCBSimulationData(Path.home() / \"Documents\" / \"ycb_sim_data_2\"),\n",
    "    YCBSimulationData(Path.home() / \"Documents\" / \"ycb_sim_data_3\"),\n",
    "]"
   ]
  },
  {
   "cell_type": "code",
   "execution_count": null,
   "metadata": {},
   "outputs": [],
   "source": [
    "preprocessor = UniversalPreprocessor(\n",
    "    depth2points_converter = Depth2ImgPoints(),\n",
    "    img2cam_converter= Img2CamCoords(),\n",
    "    z_clipper=ZClipper([0.2, 1.8]),\n",
    ")"
   ]
  },
  {
   "cell_type": "code",
   "execution_count": null,
   "metadata": {},
   "outputs": [],
   "source": [
    "### compare number of points in full pc\n",
    "\n",
    "for dataset in datasets:\n",
    "    for i in range(len(dataset)):\n",
    "        sample = dataset[i]\n",
    "\n",
    "        full_pc, segmented_pc = preprocessor(sample)\n"
   ]
  }
 ],
 "metadata": {
  "kernelspec": {
   "display_name": "contact",
   "language": "python",
   "name": "python3"
  },
  "language_info": {
   "codemirror_mode": {
    "name": "ipython",
    "version": 3
   },
   "file_extension": ".py",
   "mimetype": "text/x-python",
   "name": "python",
   "nbconvert_exporter": "python",
   "pygments_lexer": "ipython3",
   "version": "3.7.12"
  },
  "orig_nbformat": 4,
  "vscode": {
   "interpreter": {
    "hash": "f37de04192e517ffd79099b0aa4f8a9ead4a2e1f477df475e17b2f61b1624210"
   }
  }
 },
 "nbformat": 4,
 "nbformat_minor": 2
}
