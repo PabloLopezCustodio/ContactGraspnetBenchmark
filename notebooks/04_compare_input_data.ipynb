{
 "cells": [
  {
   "cell_type": "code",
   "execution_count": 1,
   "metadata": {},
   "outputs": [
    {
     "name": "stderr",
     "output_type": "stream",
     "text": [
      "2023-02-21 12:04:41.169715: I tensorflow/core/platform/cpu_feature_guard.cc:193] This TensorFlow binary is optimized with oneAPI Deep Neural Network Library (oneDNN) to use the following CPU instructions in performance-critical operations:  AVX2 FMA\n",
      "To enable them in other operations, rebuild TensorFlow with the appropriate compiler flags.\n",
      "2023-02-21 12:04:42.484883: W tensorflow/compiler/xla/stream_executor/platform/default/dso_loader.cc:64] Could not load dynamic library 'libnvinfer.so.7'; dlerror: libnvinfer.so.7: cannot open shared object file: No such file or directory; LD_LIBRARY_PATH: /home/moritz/catkin_ws/devel/lib:/opt/ros/noetic/lib:/home/moritz/.mujoco/mujoco210/bin:/home/moritz/mambaforge/envs/contact/lib/:/home/moritz/mambaforge/envs/contact/lib/\n",
      "2023-02-21 12:04:42.485444: W tensorflow/compiler/xla/stream_executor/platform/default/dso_loader.cc:64] Could not load dynamic library 'libnvinfer_plugin.so.7'; dlerror: libnvinfer_plugin.so.7: cannot open shared object file: No such file or directory; LD_LIBRARY_PATH: /home/moritz/catkin_ws/devel/lib:/opt/ros/noetic/lib:/home/moritz/.mujoco/mujoco210/bin:/home/moritz/mambaforge/envs/contact/lib/:/home/moritz/mambaforge/envs/contact/lib/\n",
      "2023-02-21 12:04:42.485478: W tensorflow/compiler/tf2tensorrt/utils/py_utils.cc:38] TF-TRT Warning: Cannot dlopen some TensorRT libraries. If you would like to use Nvidia GPU with TensorRT, please make sure the missing libraries mentioned above are installed properly.\n"
     ]
    }
   ],
   "source": [
    "from pathlib import Path\n",
    "\n",
    "from matplotlib import pyplot as plt\n",
    "import numpy as np\n",
    "import skimage as ski\n",
    "\n",
    "from contact_graspnet.dataloading import OrigExampleData, YCBSimulationData\n",
    "from contact_graspnet.utils.misc import get_root_dir\n",
    "from contact_graspnet.preprocessing import Img2CamCoords, Depth2ImgPoints, ZClipper, UniversalPreprocessor, SegmentationBinarizer, Resizer"
   ]
  },
  {
   "cell_type": "code",
   "execution_count": 2,
   "metadata": {},
   "outputs": [],
   "source": [
    "ycb_preprocessor = \n",
    "\n",
    "ycb_preprocessor_resize = \n",
    "\n",
    "examples_preprocessor = \n",
    "\n",
    "invalid_ycb_objs = [\n",
    "    \"018_pitcher_base\",\n",
    "    \"019_bleach_cleanser\",\n",
    "    \"021_bowl\",\n",
    "    \"025_plate\",\n",
    "    \"026_fork\",\n",
    "    \"039_hammer\",\n",
    "    \"042_large_clamp\",\n",
    "    \"056_b_cups\",\n",
    "    \"058_d_cups\",\n",
    "    \"059_e_cups\",\n",
    "    \"084_j_lego_duplo\",\n",
    "]\n"
   ]
  },
  {
   "cell_type": "code",
   "execution_count": 3,
   "metadata": {},
   "outputs": [
    {
     "ename": "NameError",
     "evalue": "name 'ycb_preprocessor' is not defined",
     "output_type": "error",
     "traceback": [
      "\u001b[0;31m---------------------------------------------------------------------------\u001b[0m",
      "\u001b[0;31mNameError\u001b[0m                                 Traceback (most recent call last)",
      "\u001b[0;32m/tmp/ipykernel_13892/821728796.py\u001b[0m in \u001b[0;36m<module>\u001b[0;34m\u001b[0m\n\u001b[1;32m      7\u001b[0m         \u001b[0mPath\u001b[0m\u001b[0;34m.\u001b[0m\u001b[0mhome\u001b[0m\u001b[0;34m(\u001b[0m\u001b[0;34m)\u001b[0m \u001b[0;34m/\u001b[0m \u001b[0;34m\"Documents\"\u001b[0m \u001b[0;34m/\u001b[0m \u001b[0;34m\"ycb_sim_data_1\"\u001b[0m\u001b[0;34m,\u001b[0m\u001b[0;34m\u001b[0m\u001b[0;34m\u001b[0m\u001b[0m\n\u001b[1;32m      8\u001b[0m         \u001b[0minvalid_objs\u001b[0m\u001b[0;34m=\u001b[0m\u001b[0minvalid_ycb_objs\u001b[0m\u001b[0;34m,\u001b[0m\u001b[0;34m\u001b[0m\u001b[0;34m\u001b[0m\u001b[0m\n\u001b[0;32m----> 9\u001b[0;31m         \u001b[0mtransform\u001b[0m\u001b[0;34m=\u001b[0m\u001b[0mycb_preprocessor\u001b[0m\u001b[0;34m,\u001b[0m\u001b[0;34m\u001b[0m\u001b[0;34m\u001b[0m\u001b[0m\n\u001b[0m\u001b[1;32m     10\u001b[0m     ),\n\u001b[1;32m     11\u001b[0m ]\n",
      "\u001b[0;31mNameError\u001b[0m: name 'ycb_preprocessor' is not defined"
     ]
    }
   ],
   "source": [
    "datasets = {\n",
    "    \"orig test data\": OrigExampleData(\n",
    "        get_root_dir() / \"data\" / \"raw\" / \"orig_test_data\",\n",
    "        transform=UniversalPreprocessor(\n",
    "            depth2points_converter=Depth2ImgPoints(),\n",
    "            img2cam_converter=Img2CamCoords(),\n",
    "            z_clipper=ZClipper([-np.inf, np.inf]),\n",
    "            segmentation_binarizer=SegmentationBinarizer(2.0),\n",
    "            resizer = None,\n",
    "        ),\n",
    "    ),\n",
    "    \"ycb_sim_data_1 no resize\": YCBSimulationData(\n",
    "        Path.home() / \"Documents\" / \"ycb_sim_data_1\",\n",
    "        invalid_objs=invalid_ycb_objs,\n",
    "        transform=UniversalPreprocessor(\n",
    "            depth2points_converter=Depth2ImgPoints(),\n",
    "            img2cam_converter=Img2CamCoords(),\n",
    "            z_clipper=ZClipper([-np.inf, np.inf]),\n",
    "            segmentation_binarizer=None,\n",
    "            resizer = None,\n",
    "        ),\n",
    "    ),\n",
    "    \"ycb_sim_data_1 resize\": YCBSimulationData(\n",
    "        Path.home() / \"Documents\" / \"ycb_sim_data_1\",\n",
    "        invalid_objs=invalid_ycb_objs,\n",
    "        transform=UniversalPreprocessor(\n",
    "            depth2points_converter=Depth2ImgPoints(),\n",
    "            img2cam_converter=Img2CamCoords(),\n",
    "            z_clipper=ZClipper([-np.inf, np.inf]),\n",
    "            segmentation_binarizer=None,\n",
    "            resizer=Resizer((720, 1280)),\n",
    "        ),\n",
    "    ),\n",
    "}\n"
   ]
  },
  {
   "cell_type": "code",
   "execution_count": null,
   "metadata": {},
   "outputs": [
    {
     "name": "stdout",
     "output_type": "stream",
     "text": [
      "### orig_test_data ###\n",
      "full_pc     : mean: 921600, std: 0\n",
      "segmented_pc: mean: 16686, std: 7174\n",
      "### ycb_sim_data_1 ###\n",
      "full_pc     : mean: 307200, std: 0\n",
      "segmented_pc: mean: 2218, std: 2342\n"
     ]
    }
   ],
   "source": [
    "### compare number of points in full and segmented pc ###\n",
    "\n",
    "for ds_name, dataset in datasets:\n",
    "    n_points_full = []\n",
    "    n_points_segmented = []\n",
    "\n",
    "    for i in range(len(dataset)):\n",
    "        full_pc, segmented_pc = dataset[i]\n",
    "\n",
    "        n_points_full.append(len(full_pc))\n",
    "        n_points_segmented.append(len(segmented_pc))\n",
    "\n",
    "    n_points_full = np.array(n_points_full)\n",
    "    n_points_segmented = np.array(n_points_segmented)\n",
    "\n",
    "    print(f\"### {ds_name} ###\")\n",
    "    print(f\"full_pc     : mean: {int(n_points_full.mean())}, std: {int(n_points_full.std())}\")\n",
    "    print(f\"segmented_pc: mean: {int(n_points_segmented.mean())}, std: {int(n_points_segmented.std())}\")\n"
   ]
  }
 ],
 "metadata": {
  "kernelspec": {
   "display_name": "contact",
   "language": "python",
   "name": "python3"
  },
  "language_info": {
   "codemirror_mode": {
    "name": "ipython",
    "version": 3
   },
   "file_extension": ".py",
   "mimetype": "text/x-python",
   "name": "python",
   "nbconvert_exporter": "python",
   "pygments_lexer": "ipython3",
   "version": "3.7.12"
  },
  "orig_nbformat": 4,
  "vscode": {
   "interpreter": {
    "hash": "f37de04192e517ffd79099b0aa4f8a9ead4a2e1f477df475e17b2f61b1624210"
   }
  }
 },
 "nbformat": 4,
 "nbformat_minor": 2
}
