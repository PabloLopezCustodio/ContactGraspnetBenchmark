{
 "cells": [
  {
   "cell_type": "code",
   "execution_count": 1,
   "metadata": {},
   "outputs": [],
   "source": [
    "import os\n",
    "\n",
    "os.environ[\"TF_CPP_MIN_LOG_LEVEL\"] = \"2\""
   ]
  },
  {
   "cell_type": "code",
   "execution_count": 2,
   "metadata": {},
   "outputs": [
    {
     "name": "stdout",
     "output_type": "stream",
     "text": [
      "/home/moritz/Documents/ContactGraspnetBenchmark/contact_graspnet/orig/pointnet2/tf_ops/sampling\n"
     ]
    }
   ],
   "source": [
    "%load_ext autoreload\n",
    "%autoreload 2\n",
    "# %matplotlib widget\n",
    "\n",
    "from pathlib import Path\n",
    "\n",
    "import tensorflow.compat.v1 as tf\n",
    "from matplotlib import pyplot as plt\n",
    "import numpy as np\n",
    "\n",
    "from contact_graspnet.dataloading import OrigExampleData\n",
    "from contact_graspnet.preprocessing import OrigExampleDataPreprocessor, OrigDepth2Points, ZClipper\n",
    "from contact_graspnet.models import ContactGraspnet\n",
    "from contact_graspnet.postprocessing import Postprocessor, TopScoreFilter\n",
    "\n",
    "# from contact_graspnet.orig.contact_graspnet.visualization_utils import visualize_grasps\n",
    "from contact_graspnet.utils.visualization import mlab_pose_vis"
   ]
  },
  {
   "cell_type": "code",
   "execution_count": 3,
   "metadata": {},
   "outputs": [],
   "source": [
    "tf.compat.v1.logging.set_verbosity(tf.compat.v1.logging.ERROR)\n",
    "\n",
    "tf.disable_eager_execution()\n",
    "physical_devices = tf.config.experimental.list_physical_devices(\"GPU\")\n",
    "tf.config.experimental.set_memory_growth(physical_devices[0], True)"
   ]
  },
  {
   "cell_type": "code",
   "execution_count": 4,
   "metadata": {},
   "outputs": [],
   "source": [
    "dataset_path = Path.cwd().parent / \"contact_graspnet\" / \"data\" / \"orig_test_data\"\n",
    "\n",
    "checkpoint_dir = Path.cwd().parent / \"contact_graspnet\" / \"checkpoints\" / \"scene_test_2048_bs3_hor_sigma_001\"\n",
    "config_path = checkpoint_dir / \"config.yaml\""
   ]
  },
  {
   "cell_type": "code",
   "execution_count": 5,
   "metadata": {},
   "outputs": [],
   "source": [
    "dataset = OrigExampleData(dataset_path)\n",
    "sample = dataset[0]\n",
    "\n",
    "plt.imshow(sample.rgb)"
   ]
  },
  {
   "cell_type": "code",
   "execution_count": 7,
   "metadata": {},
   "outputs": [],
   "source": [
    "preprocessor = OrigExampleDataPreprocessor(\n",
    "    OrigDepth2Points(),\n",
    "    ZClipper(np.array([0.2, 1.8])),\n",
    ")\n",
    "\n",
    "model = ContactGraspnet(checkpoint_dir=checkpoint_dir, config_path=config_path, batch_size=1)\n",
    "\n",
    "postprocessor = Postprocesor(top_score_filter = None)"
   ]
  },
  {
   "cell_type": "code",
   "execution_count": 9,
   "metadata": {},
   "outputs": [
    {
     "name": "stdout",
     "output_type": "stream",
     "text": [
      "Generated 140 grasps\n"
     ]
    }
   ],
   "source": [
    "pointcloud = preprocessor(sample)\n",
    "\n",
    "network_output = (pred_grasps_cam, scores, contact_pts) = model(pointcloud)\n",
    "\n",
    "grasps_img = postprocessor(network_output)"
   ]
  },
  {
   "cell_type": "code",
   "execution_count": 11,
   "metadata": {},
   "outputs": [],
   "source": [
    "# visualize_grasps(\n",
    "#     pointcloud, {-1: pred_grasps_cam}, {-1: scores}, plot_opencv_cam=True, pc_colors=preprocessor.intermediate_results[\"pointcloud_colors\"]\n",
    "# )"
   ]
  },
  {
   "cell_type": "code",
   "execution_count": null,
   "metadata": {},
   "outputs": [],
   "source": [
    "mlab_pose_vis(pointcloud, grasps_img, pc_colors=preprocessor.intermediate_results[\"pointcloud_colors\"])"
   ]
  }
 ],
 "metadata": {
  "kernelspec": {
   "display_name": "contact",
   "language": "python",
   "name": "python3"
  },
  "language_info": {
   "codemirror_mode": {
    "name": "ipython",
    "version": 3
   },
   "file_extension": ".py",
   "mimetype": "text/x-python",
   "name": "python",
   "nbconvert_exporter": "python",
   "pygments_lexer": "ipython3",
   "version": "3.7.12"
  },
  "orig_nbformat": 4,
  "vscode": {
   "interpreter": {
    "hash": "f37de04192e517ffd79099b0aa4f8a9ead4a2e1f477df475e17b2f61b1624210"
   }
  }
 },
 "nbformat": 4,
 "nbformat_minor": 2
}
