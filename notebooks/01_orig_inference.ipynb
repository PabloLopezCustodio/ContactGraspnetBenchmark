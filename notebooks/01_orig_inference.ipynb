{
    "cells": [
        {
            "cell_type": "code",
            "execution_count": 5,
            "metadata": {},
            "outputs": [],
            "source": [
                "# from pathlib import Path\n",
                "\n",
                "# import tensorflow.compat.v1 as tf\n",
                "\n",
                "from contact_graspnet.orig.contact_graspnet import config_utils\n",
                "from contact_graspnet.orig.contact_graspnet.data import load_available_input_data\n",
                "# from contact_grasp_estimator import GraspEstimator\n",
                "# from visualization_utils import visualize_grasps, show_image"
            ]
        },
        {
            "cell_type": "code",
            "execution_count": null,
            "metadata": {},
            "outputs": [],
            "source": [
                "tf.disable_eager_execution()\n",
                "physical_devices = tf.config.experimental.list_physical_devices(\"GPU\")\n",
                "tf.config.experimental.set_memory_growth(physical_devices[0], True)"
            ]
        },
        {
            "cell_type": "code",
            "execution_count": null,
            "metadata": {},
            "outputs": [],
            "source": [
                "checkpoint_dir = Path(checkpoint_dir)\n",
                "if not checkpoint_dir.exists():\n",
                "    checkpoint_dir = Path(__file__).parent.parent / \"checkpoints\" / checkpoint_dir\n",
                "if not checkpoint_dir.exists():\n",
                "    raise ValueError(\"Checkpoint directory not found: \", checkpoint_dir)\n",
                "\n",
                "# load config\n",
                "global_config = config_utils.load_config(\n",
                "    checkpoint_dir, batch_size=forward_passes, arg_configs=[]\n",
                ")\n",
                "\n",
                "# Build the model\n",
                "grasp_estimator = GraspEstimator(global_config)\n",
                "grasp_estimator.build_network()\n",
                "\n",
                "# Add ops to save and restore all the variables.\n",
                "saver = tf.train.Saver(save_relative_paths=True)\n",
                "\n",
                "# Create a session\n",
                "config = tf.ConfigProto()\n",
                "config.gpu_options.allow_growth = True\n",
                "config.allow_soft_placement = True\n",
                "sess = tf.Session(config=config)\n",
                "\n",
                "# Load weights\n",
                "grasp_estimator.load_weights(sess, saver, checkpoint_dir, mode=\"test\")"
            ]
        }
    ],
    "metadata": {
        "kernelspec": {
            "display_name": "contact",
            "language": "python",
            "name": "python3"
        },
        "language_info": {
            "codemirror_mode": {
                "name": "ipython",
                "version": 3
            },
            "file_extension": ".py",
            "mimetype": "text/x-python",
            "name": "python",
            "nbconvert_exporter": "python",
            "pygments_lexer": "ipython3",
            "version": "3.7.12"
        },
        "orig_nbformat": 4,
        "vscode": {
            "interpreter": {
                "hash": "f37de04192e517ffd79099b0aa4f8a9ead4a2e1f477df475e17b2f61b1624210"
            }
        }
    },
    "nbformat": 4,
    "nbformat_minor": 2
}