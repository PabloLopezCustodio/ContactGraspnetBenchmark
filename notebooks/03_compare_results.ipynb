{
 "cells": [
  {
   "cell_type": "code",
   "execution_count": null,
   "metadata": {},
   "outputs": [],
   "source": [
    "import json\n",
    "from pathlib import Path\n",
    "\n",
    "from matplotlib import pyplot as plt\n",
    "import matplotlib as mpl\n",
    "import numpy as np\n",
    "from tabulate import tabulate\n",
    "\n",
    "from contact_graspnet.utils.misc import get_root_dir\n",
    "from contact_graspnet.utils.visualization import mlab_pose_vis\n",
    "from contact_graspnet.datatypes import GraspCam"
   ]
  },
  {
   "cell_type": "code",
   "execution_count": null,
   "metadata": {},
   "outputs": [],
   "source": [
    "### plot all original images ###\n",
    "\n",
    "ycb_path = Path.home() / \"Documents\" / \"ycb_sim_data_1\"\n",
    "obj_names = sorted([p.name for p in ycb_path.iterdir()])\n",
    "\n",
    "for i, name in enumerate(obj_names):\n",
    "    print(f\"{i}: {name}\")\n",
    "\n",
    "    img = np.load(ycb_path / name)[\"rgb_img\"]\n",
    "\n",
    "    plt.imshow(img)\n",
    "\n",
    "    plt.show()"
   ]
  },
  {
   "cell_type": "code",
   "execution_count": null,
   "metadata": {},
   "outputs": [],
   "source": [
    "ycb_result_paths = [\n",
    "    get_root_dir() / \"data\" / \"results\" / \"ycb_sim_data_1\",\n",
    "    get_root_dir() / \"data\" / \"results\" / \"ycb_sim_data_2\",\n",
    "    get_root_dir() / \"data\" / \"results\" / \"ycb_sim_data_3\",\n",
    "]\n",
    "ycb_result_names = sorted([p.name for p in ycb_result_paths[0].iterdir() if p.is_dir()])\n",
    "\n",
    "example_result_paths = [\n",
    "    get_root_dir() / \"data\" / \"results\" / \"orig_test_data_seg1\",\n",
    "    get_root_dir() / \"data\" / \"results\" / \"orig_test_data_seg2\",\n",
    "    get_root_dir() / \"data\" / \"results\" / \"orig_test_data_seg3\",\n",
    "    get_root_dir() / \"data\" / \"results\" / \"orig_test_data_seg4\",\n",
    "]\n",
    "example_result_names = sorted([p.name for p in example_result_paths[0].iterdir() if p.is_dir()])\n",
    "\n"
   ]
  },
  {
   "cell_type": "code",
   "execution_count": null,
   "metadata": {},
   "outputs": [],
   "source": [
    "### show the mlab visualization of all results in a folder ###\n",
    "\n",
    "result_path = result_paths[0]\n",
    "\n",
    "for result_name in result_names:\n",
    "    print(result_name)\n",
    "\n",
    "    mlab_pose_vis(\n",
    "        np.load(result_path / result_name / \"full_pc.npy\"),\n",
    "        [\n",
    "            GraspCam(**d)\n",
    "            for d in json.load(open(result_path / result_name / \"data.json\"))[\n",
    "                \"grasps_cam\"\n",
    "            ]\n",
    "        ],\n",
    "        np.load(result_path / result_name / \"full_pc_colors.npy\"),\n",
    "    )\n"
   ]
  },
  {
   "cell_type": "code",
   "execution_count": null,
   "metadata": {},
   "outputs": [],
   "source": [
    "### histograms of the number of grasps per sampe\n",
    "\n",
    "n_grasps_table = {}\n",
    "n_grasps_table[\"names\"] = ycb_result_names + [\"total\"]\n",
    "\n",
    "for result_path in ycb_result_paths:\n",
    "    n_grasps = []\n",
    "    n_grasps_table[result_path.name] = []\n",
    "\n",
    "    for result_name in ycb_result_names:\n",
    "        with open(result_path / result_name / \"data.json\") as f:\n",
    "            data = json.load(f)\n",
    "\n",
    "        n = len(data[\"grasps_cam\"])\n",
    "        \n",
    "        n_grasps.append(n)\n",
    "        n_grasps_table[result_path.name].append(n)\n",
    "\n",
    "    n_grasps = np.array(n_grasps)\n",
    "    n_grasps_table[result_path.name].append(sum(n_grasps))\n",
    "\n",
    "    plt.hist(n_grasps, bins=np.arange(-1, max(n_grasps)+1))\n",
    "    print(result_path.name)\n",
    "    print(f\"samples with no grasps: {np.sum(n_grasps == 0)}\")\n",
    "    plt.show()\n",
    "\n",
    "print(tabulate(n_grasps_table, headers=\"keys\"))"
   ]
  },
  {
   "cell_type": "code",
   "execution_count": null,
   "metadata": {},
   "outputs": [],
   "source": [
    "# for result_name in result_names:\n",
    "#     fig, axes = plt.subplots(2, len(result_paths), figsize=(10, 5))\n",
    "#     fig.suptitle(result_name)\n",
    "#     fig.tight_layout()\n",
    "\n",
    "#     for i, result_path in enumerate(result_paths):\n",
    "#         all_grasps = mpl.image.imread(result_path / result_name / \"all_grasps.png\")\n",
    "#         best_grasp = mpl.image.imread(result_path / result_name / \"best_grasp.png\")\n",
    "\n",
    "#         axes[i][0].imshow(all_grasps)\n",
    "#         axes[i][0].set_title(\"all grasps\")\n",
    "\n",
    "#         axes[i][1].imshow(best_grasp)\n",
    "#         axes[i][1].set_title(\"best grasp\")\n",
    "\n",
    "#     plt.show()\n"
   ]
  }
 ],
 "metadata": {
  "kernelspec": {
   "display_name": "contact",
   "language": "python",
   "name": "python3"
  },
  "language_info": {
   "codemirror_mode": {
    "name": "ipython",
    "version": 3
   },
   "file_extension": ".py",
   "mimetype": "text/x-python",
   "name": "python",
   "nbconvert_exporter": "python",
   "pygments_lexer": "ipython3",
   "version": "3.7.12"
  },
  "orig_nbformat": 4,
  "vscode": {
   "interpreter": {
    "hash": "f37de04192e517ffd79099b0aa4f8a9ead4a2e1f477df475e17b2f61b1624210"
   }
  }
 },
 "nbformat": 4,
 "nbformat_minor": 2
}
