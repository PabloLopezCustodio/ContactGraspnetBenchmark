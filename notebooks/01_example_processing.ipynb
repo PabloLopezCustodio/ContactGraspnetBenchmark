{
 "cells": [
  {
   "cell_type": "code",
   "execution_count": 1,
   "metadata": {},
   "outputs": [
    {
     "name": "stderr",
     "output_type": "stream",
     "text": [
      "2023-01-31 14:57:17.292822: I tensorflow/core/platform/cpu_feature_guard.cc:193] This TensorFlow binary is optimized with oneAPI Deep Neural Network Library (oneDNN) to use the following CPU instructions in performance-critical operations:  AVX2 FMA\n",
      "To enable them in other operations, rebuild TensorFlow with the appropriate compiler flags.\n",
      "2023-01-31 14:57:18.595842: W tensorflow/compiler/xla/stream_executor/platform/default/dso_loader.cc:64] Could not load dynamic library 'libnvinfer.so.7'; dlerror: libnvinfer.so.7: cannot open shared object file: No such file or directory; LD_LIBRARY_PATH: /home/moritz/catkin_ws/devel/lib:/opt/ros/noetic/lib:/home/moritz/mambaforge/envs/contact_graspnet/lib/\n",
      "2023-01-31 14:57:18.595952: W tensorflow/compiler/xla/stream_executor/platform/default/dso_loader.cc:64] Could not load dynamic library 'libnvinfer_plugin.so.7'; dlerror: libnvinfer_plugin.so.7: cannot open shared object file: No such file or directory; LD_LIBRARY_PATH: /home/moritz/catkin_ws/devel/lib:/opt/ros/noetic/lib:/home/moritz/mambaforge/envs/contact_graspnet/lib/\n",
      "2023-01-31 14:57:18.595964: W tensorflow/compiler/tf2tensorrt/utils/py_utils.cc:38] TF-TRT Warning: Cannot dlopen some TensorRT libraries. If you would like to use Nvidia GPU with TensorRT, please make sure the missing libraries mentioned above are installed properly.\n"
     ]
    },
    {
     "name": "stdout",
     "output_type": "stream",
     "text": [
      "/home/moritz/Documents/contact_graspnet_benchmark/contact_graspnet_benchmark/orig/pointnet2/tf_ops/sampling\n"
     ]
    }
   ],
   "source": [
    "%load_ext autoreload\n",
    "%autoreload 2\n",
    "\n",
    "from pathlib import Path\n",
    "\n",
    "import tensorflow.compat.v1 as tf\n",
    "\n",
    "from contact_graspnet_benchmark.utils.processing import End2EndProcessor\n",
    "from contact_graspnet_benchmark.dataloading import OrigExampleDataset"
   ]
  },
  {
   "cell_type": "code",
   "execution_count": 3,
   "metadata": {},
   "outputs": [],
   "source": [
    "DATASET_PATH = Path.cwd().parent / \"contact_graspnet_benchmark\" / \"orig\" / \"examples\" / \"test_data\"\n",
    "\n",
    "dataset = OrigExampleDataset(DATASET_PATH)"
   ]
  },
  {
   "cell_type": "code",
   "execution_count": 4,
   "metadata": {},
   "outputs": [],
   "source": [
    "sample = dataset[0]"
   ]
  },
  {
   "cell_type": "code",
   "execution_count": 5,
   "metadata": {},
   "outputs": [
    {
     "name": "stderr",
     "output_type": "stream",
     "text": [
      "2023-01-31 14:57:21.036714: I tensorflow/core/platform/cpu_feature_guard.cc:193] This TensorFlow binary is optimized with oneAPI Deep Neural Network Library (oneDNN) to use the following CPU instructions in performance-critical operations:  AVX2 FMA\n",
      "To enable them in other operations, rebuild TensorFlow with the appropriate compiler flags.\n",
      "2023-01-31 14:57:21.037201: I tensorflow/compiler/xla/stream_executor/cuda/cuda_gpu_executor.cc:981] successful NUMA node read from SysFS had negative value (-1), but there must be at least one NUMA node, so returning NUMA node zero\n",
      "2023-01-31 14:57:21.037617: I tensorflow/compiler/xla/stream_executor/cuda/cuda_gpu_executor.cc:981] successful NUMA node read from SysFS had negative value (-1), but there must be at least one NUMA node, so returning NUMA node zero\n",
      "2023-01-31 14:57:21.038003: I tensorflow/compiler/xla/stream_executor/cuda/cuda_gpu_executor.cc:981] successful NUMA node read from SysFS had negative value (-1), but there must be at least one NUMA node, so returning NUMA node zero\n"
     ]
    },
    {
     "name": "stdout",
     "output_type": "stream",
     "text": [
      "--- Get model\n",
      "WARNING:tensorflow:From /home/moritz/mambaforge/envs/contact_graspnet/lib/python3.10/site-packages/keras/layers/normalization/batch_normalization.py:561: _colocate_with (from tensorflow.python.framework.ops) is deprecated and will be removed in a future version.\n",
      "Instructions for updating:\n",
      "Colocations handled automatically by placer.\n"
     ]
    },
    {
     "name": "stderr",
     "output_type": "stream",
     "text": [
      "2023-01-31 14:57:21.878313: I tensorflow/compiler/xla/stream_executor/cuda/cuda_gpu_executor.cc:981] successful NUMA node read from SysFS had negative value (-1), but there must be at least one NUMA node, so returning NUMA node zero\n",
      "2023-01-31 14:57:21.878683: I tensorflow/compiler/xla/stream_executor/cuda/cuda_gpu_executor.cc:981] successful NUMA node read from SysFS had negative value (-1), but there must be at least one NUMA node, so returning NUMA node zero\n",
      "2023-01-31 14:57:21.878977: I tensorflow/compiler/xla/stream_executor/cuda/cuda_gpu_executor.cc:981] successful NUMA node read from SysFS had negative value (-1), but there must be at least one NUMA node, so returning NUMA node zero\n",
      "2023-01-31 14:57:21.879185: I tensorflow/core/common_runtime/gpu/gpu_device.cc:1613] Created device /job:localhost/replica:0/task:0/device:GPU:0 with 1524 MB memory:  -> device: 0, name: NVIDIA GeForce 940MX, pci bus id: 0000:01:00.0, compute capability: 5.0\n",
      "/home/moritz/Documents/contact_graspnet_benchmark/contact_graspnet_benchmark/orig/contact_graspnet/config_utils.py:40: YAMLLoadWarning: calling yaml.load() without Loader=... is deprecated, as the default Loader is unsafe. Please read https://msg.pyyaml.org/load for full details.\n",
      "  global_config = yaml.load(f)\n",
      "/home/moritz/Documents/contact_graspnet_benchmark/contact_graspnet_benchmark/orig/pointnet2/utils/tf_util.py:569: UserWarning: `tf.layers.batch_normalization` is deprecated and will be removed in a future version. Please use `tf.keras.layers.BatchNormalization` instead. In particular, `tf.control_dependencies(tf.GraphKeys.UPDATE_OPS)` should not be used (consult the `tf.keras.layers.BatchNormalization` documentation).\n",
      "  return tf.compat.v1.layers.batch_normalization(\n"
     ]
    },
    {
     "name": "stdout",
     "output_type": "stream",
     "text": [
      "WARNING:tensorflow:From /home/moritz/mambaforge/envs/contact_graspnet/lib/python3.10/site-packages/tensorflow/python/util/deprecation.py:629: calling conv1d (from tensorflow.python.ops.nn_ops) with data_format=NHWC is deprecated and will be removed in a future version.\n",
      "Instructions for updating:\n",
      "`NHWC` for data_format is deprecated, use `NWC` instead\n",
      "WARNING:tensorflow:From /home/moritz/mambaforge/envs/contact_graspnet/lib/python3.10/site-packages/tensorflow/python/util/dispatch.py:1176: calling dropout (from tensorflow.python.ops.nn_ops) with keep_prob is deprecated and will be removed in a future version.\n",
      "Instructions for updating:\n",
      "Please use `rate` instead of `keep_prob`. Rate should be set to `rate = 1 - keep_prob`.\n",
      "('loading ', '/home/moritz/Documents/contact_graspnet_benchmark/contact_graspnet_benchmark/orig/checkpoints/scene_test_2048_bs3_hor_sigma_001/model.ckpt-54054')\n",
      "INFO:tensorflow:Restoring parameters from /home/moritz/Documents/contact_graspnet_benchmark/contact_graspnet_benchmark/orig/checkpoints/scene_test_2048_bs3_hor_sigma_001/model.ckpt-54054\n"
     ]
    },
    {
     "name": "stderr",
     "output_type": "stream",
     "text": [
      "2023-01-31 14:57:27.094879: I tensorflow/compiler/mlir/mlir_graph_optimization_pass.cc:357] MLIR V1 optimization pass is not enabled\n"
     ]
    }
   ],
   "source": [
    "e2e_processor = End2EndProcessor(\n",
    "    checkpoint_dir=Path.cwd().parent\n",
    "    / \"contact_graspnet_benchmark\"\n",
    "    / \"orig\"\n",
    "    / \"checkpoints\"\n",
    "    / \"scene_test_2048_bs3_hor_sigma_001\"\n",
    ")\n"
   ]
  },
  {
   "cell_type": "code",
   "execution_count": 7,
   "metadata": {},
   "outputs": [
    {
     "name": "stdout",
     "output_type": "stream",
     "text": [
      "None\n"
     ]
    }
   ],
   "source": [
    "print(sample.points)"
   ]
  },
  {
   "cell_type": "code",
   "execution_count": 6,
   "metadata": {},
   "outputs": [
    {
     "ename": "AttributeError",
     "evalue": "'NoneType' object has no attribute 'shape'",
     "output_type": "error",
     "traceback": [
      "\u001b[0;31m---------------------------------------------------------------------------\u001b[0m",
      "\u001b[0;31mAttributeError\u001b[0m                            Traceback (most recent call last)",
      "Cell \u001b[0;32mIn[6], line 1\u001b[0m\n\u001b[0;32m----> 1\u001b[0m result \u001b[39m=\u001b[39m e2e_processor(sample)\n",
      "File \u001b[0;32m~/Documents/contact_graspnet_benchmark/contact_graspnet_benchmark/utils/processing.py:43\u001b[0m, in \u001b[0;36mEnd2EndProcessor.__call__\u001b[0;34m(self, sample)\u001b[0m\n\u001b[1;32m     37\u001b[0m \u001b[39mdef\u001b[39;00m \u001b[39m__call__\u001b[39m(\u001b[39mself\u001b[39m, sample: CameraData):\n\u001b[1;32m     38\u001b[0m     (\n\u001b[1;32m     39\u001b[0m         pred_grasps_cam,\n\u001b[1;32m     40\u001b[0m         scores,\n\u001b[1;32m     41\u001b[0m         contact_pts,\n\u001b[1;32m     42\u001b[0m         _,\n\u001b[0;32m---> 43\u001b[0m     ) \u001b[39m=\u001b[39m \u001b[39mself\u001b[39;49m\u001b[39m.\u001b[39;49mgrasp_estimator\u001b[39m.\u001b[39;49mpredict_scene_grasps(\n\u001b[1;32m     44\u001b[0m         sample\u001b[39m.\u001b[39;49mpoints,\n\u001b[1;32m     45\u001b[0m         \u001b[39m# pc_segments=pc_segments,\u001b[39;49;00m\n\u001b[1;32m     46\u001b[0m         \u001b[39m# local_regions=local_regions,\u001b[39;49;00m\n\u001b[1;32m     47\u001b[0m         \u001b[39m# filter_grasps=filter_grasps,\u001b[39;49;00m\n\u001b[1;32m     48\u001b[0m         forward_passes\u001b[39m=\u001b[39;49m\u001b[39mself\u001b[39;49m\u001b[39m.\u001b[39;49mforward_passes,\n\u001b[1;32m     49\u001b[0m     )\n\u001b[1;32m     51\u001b[0m     \u001b[39mreturn\u001b[39;00m pred_grasps_cam, scores, contact_pts\n",
      "File \u001b[0;32m~/Documents/contact_graspnet_benchmark/contact_graspnet_benchmark/orig/contact_graspnet/contact_grasp_estimator.py:379\u001b[0m, in \u001b[0;36mGraspEstimator.predict_scene_grasps\u001b[0;34m(self, pc_full, pc_segments, local_regions, filter_grasps, forward_passes)\u001b[0m\n\u001b[1;32m    367\u001b[0m         (\n\u001b[1;32m    368\u001b[0m             pred_grasps_cam[k],\n\u001b[1;32m    369\u001b[0m             scores[k],\n\u001b[0;32m   (...)\u001b[0m\n\u001b[1;32m    376\u001b[0m             forward_passes\u001b[39m=\u001b[39mforward_passes,\n\u001b[1;32m    377\u001b[0m         )\n\u001b[1;32m    378\u001b[0m \u001b[39melse\u001b[39;00m:\n\u001b[0;32m--> 379\u001b[0m     pc_full \u001b[39m=\u001b[39m regularize_pc_point_count(\n\u001b[1;32m    380\u001b[0m         pc_full, \u001b[39mself\u001b[39;49m\u001b[39m.\u001b[39;49m_contact_grasp_cfg[\u001b[39m\"\u001b[39;49m\u001b[39mDATA\u001b[39;49m\u001b[39m\"\u001b[39;49m][\u001b[39m\"\u001b[39;49m\u001b[39mraw_num_points\u001b[39;49m\u001b[39m\"\u001b[39;49m]\n\u001b[1;32m    381\u001b[0m     )\n\u001b[1;32m    382\u001b[0m     (\n\u001b[1;32m    383\u001b[0m         pred_grasps_cam[\u001b[39m-\u001b[39m\u001b[39m1\u001b[39m],\n\u001b[1;32m    384\u001b[0m         scores[\u001b[39m-\u001b[39m\u001b[39m1\u001b[39m],\n\u001b[0;32m   (...)\u001b[0m\n\u001b[1;32m    391\u001b[0m         forward_passes\u001b[39m=\u001b[39mforward_passes,\n\u001b[1;32m    392\u001b[0m     )\n\u001b[1;32m    393\u001b[0m     \u001b[39mprint\u001b[39m(\u001b[39m\"\u001b[39m\u001b[39mGenerated \u001b[39m\u001b[39m{}\u001b[39;00m\u001b[39m grasps\u001b[39m\u001b[39m\"\u001b[39m\u001b[39m.\u001b[39mformat(\u001b[39mlen\u001b[39m(pred_grasps_cam[\u001b[39m-\u001b[39m\u001b[39m1\u001b[39m])))\n",
      "File \u001b[0;32m~/Documents/contact_graspnet_benchmark/contact_graspnet_benchmark/orig/contact_graspnet/data.py:201\u001b[0m, in \u001b[0;36mregularize_pc_point_count\u001b[0;34m(pc, npoints, use_farthest_point)\u001b[0m\n\u001b[1;32m    189\u001b[0m \u001b[39mdef\u001b[39;00m \u001b[39mregularize_pc_point_count\u001b[39m(pc, npoints, use_farthest_point\u001b[39m=\u001b[39m\u001b[39mFalse\u001b[39;00m):\n\u001b[1;32m    190\u001b[0m \u001b[39m    \u001b[39m\u001b[39m\"\"\"\u001b[39;00m\n\u001b[1;32m    191\u001b[0m \u001b[39m      If point cloud pc has less points than npoints, it oversamples.\u001b[39;00m\n\u001b[1;32m    192\u001b[0m \u001b[39m      Otherwise, it downsample the input pc to have npoint points.\u001b[39;00m\n\u001b[0;32m   (...)\u001b[0m\n\u001b[1;32m    198\u001b[0m \u001b[39m      :returns: npointsx3 regularized point cloud\u001b[39;00m\n\u001b[1;32m    199\u001b[0m \u001b[39m    \"\"\"\u001b[39;00m\n\u001b[0;32m--> 201\u001b[0m     \u001b[39mif\u001b[39;00m pc\u001b[39m.\u001b[39;49mshape[\u001b[39m0\u001b[39m] \u001b[39m>\u001b[39m npoints:\n\u001b[1;32m    202\u001b[0m         \u001b[39mif\u001b[39;00m use_farthest_point:\n\u001b[1;32m    203\u001b[0m             _, center_indexes \u001b[39m=\u001b[39m farthest_points(pc, npoints, distance_by_translation_point, return_center_indexes\u001b[39m=\u001b[39m\u001b[39mTrue\u001b[39;00m)\n",
      "\u001b[0;31mAttributeError\u001b[0m: 'NoneType' object has no attribute 'shape'"
     ]
    }
   ],
   "source": [
    "result = e2e_processor(sample)"
   ]
  }
 ],
 "metadata": {
  "kernelspec": {
   "display_name": "Python 3.10.8",
   "language": "python",
   "name": "python3"
  },
  "language_info": {
   "codemirror_mode": {
    "name": "ipython",
    "version": 3
   },
   "file_extension": ".py",
   "mimetype": "text/x-python",
   "name": "python",
   "nbconvert_exporter": "python",
   "pygments_lexer": "ipython3",
   "version": "3.10.8"
  },
  "orig_nbformat": 4,
  "vscode": {
   "interpreter": {
    "hash": "a7d6cc0b766eee0adff00808e655bd8baa0441a11b11ed398c39cfbc87f3c009"
   }
  }
 },
 "nbformat": 4,
 "nbformat_minor": 2
}
