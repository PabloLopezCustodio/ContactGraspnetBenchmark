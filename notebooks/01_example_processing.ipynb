{
 "cells": [
  {
   "cell_type": "code",
   "execution_count": 6,
   "metadata": {},
   "outputs": [
    {
     "name": "stdout",
     "output_type": "stream",
     "text": [
      "The autoreload extension is already loaded. To reload it, use:\n",
      "  %reload_ext autoreload\n"
     ]
    }
   ],
   "source": [
    "%load_ext autoreload\n",
    "%autoreload 2\n",
    "\n",
    "from pathlib import Path\n",
    "\n",
    "import tensorflow.compat.v1 as tf\n",
    "\n",
    "from contact_graspnet_benchmark.utils.processing import End2EndProcessor\n",
    "from contact_graspnet_benchmark.dataloading import OrigExampleDataset"
   ]
  },
  {
   "cell_type": "code",
   "execution_count": 2,
   "metadata": {},
   "outputs": [
    {
     "name": "stderr",
     "output_type": "stream",
     "text": [
      "2023-01-31 11:47:50.766990: I tensorflow/compiler/xla/stream_executor/cuda/cuda_gpu_executor.cc:981] successful NUMA node read from SysFS had negative value (-1), but there must be at least one NUMA node, so returning NUMA node zero\n",
      "2023-01-31 11:47:50.809585: W tensorflow/compiler/xla/stream_executor/platform/default/dso_loader.cc:64] Could not load dynamic library 'libcudnn.so.8'; dlerror: libcudnn.so.8: cannot open shared object file: No such file or directory; LD_LIBRARY_PATH: /home/moritz/mambaforge/envs/contact_graspnet/lib/python3.10/site-packages/cv2/../../lib64:/home/moritz/catkin_ws/devel/lib:/opt/ros/noetic/lib\n",
      "2023-01-31 11:47:50.809609: W tensorflow/core/common_runtime/gpu/gpu_device.cc:1934] Cannot dlopen some GPU libraries. Please make sure the missing libraries mentioned above are installed properly if you would like to use GPU. Follow the guide at https://www.tensorflow.org/install/gpu for how to download and setup the required libraries for your platform.\n",
      "Skipping registering GPU devices...\n"
     ]
    }
   ],
   "source": [
    "tf.disable_eager_execution()\n",
    "physical_devices = tf.config.experimental.list_physical_devices(\"GPU\")\n",
    "# tf.config.experimental.set_memory_growth(physical_devices[0], True)\n",
    "# from contact_graspnet_benchmark.orig.contact_graspnet.visualization_utils import (\n",
    "#     visualize_grasps,\n",
    "#     show_image,\n",
    "# )"
   ]
  },
  {
   "cell_type": "code",
   "execution_count": 3,
   "metadata": {},
   "outputs": [],
   "source": [
    "DATASET_PATH = Path.cwd().parent / \"contact_graspnet_benchmark\" / \"orig\" / \"examples\" / \"test_data\"\n",
    "\n",
    "dataset = OrigExampleDataset(DATASET_PATH)"
   ]
  },
  {
   "cell_type": "code",
   "execution_count": 4,
   "metadata": {},
   "outputs": [],
   "source": [
    "sample = dataset[0]"
   ]
  },
  {
   "cell_type": "code",
   "execution_count": 5,
   "metadata": {},
   "outputs": [
    {
     "name": "stdout",
     "output_type": "stream",
     "text": [
      "--- Get model\n",
      "WARNING:tensorflow:From /home/moritz/mambaforge/envs/contact_graspnet/lib/python3.10/site-packages/keras/layers/normalization/batch_normalization.py:561: _colocate_with (from tensorflow.python.framework.ops) is deprecated and will be removed in a future version.\n",
      "Instructions for updating:\n",
      "Colocations handled automatically by placer.\n"
     ]
    },
    {
     "name": "stderr",
     "output_type": "stream",
     "text": [
      "/home/moritz/Documents/contact_graspnet_benchmark/contact_graspnet_benchmark/orig/contact_graspnet/config_utils.py:40: YAMLLoadWarning: calling yaml.load() without Loader=... is deprecated, as the default Loader is unsafe. Please read https://msg.pyyaml.org/load for full details.\n",
      "  global_config = yaml.load(f)\n",
      "/home/moritz/Documents/contact_graspnet_benchmark/contact_graspnet_benchmark/orig/pointnet2/utils/tf_util.py:569: UserWarning: `tf.layers.batch_normalization` is deprecated and will be removed in a future version. Please use `tf.keras.layers.BatchNormalization` instead. In particular, `tf.control_dependencies(tf.GraphKeys.UPDATE_OPS)` should not be used (consult the `tf.keras.layers.BatchNormalization` documentation).\n",
      "  return tf.compat.v1.layers.batch_normalization(\n"
     ]
    },
    {
     "name": "stdout",
     "output_type": "stream",
     "text": [
      "WARNING:tensorflow:From /home/moritz/mambaforge/envs/contact_graspnet/lib/python3.10/site-packages/tensorflow/python/util/deprecation.py:629: calling conv1d (from tensorflow.python.ops.nn_ops) with data_format=NHWC is deprecated and will be removed in a future version.\n",
      "Instructions for updating:\n",
      "`NHWC` for data_format is deprecated, use `NWC` instead\n",
      "WARNING:tensorflow:From /home/moritz/mambaforge/envs/contact_graspnet/lib/python3.10/site-packages/tensorflow/python/util/dispatch.py:1176: calling dropout (from tensorflow.python.ops.nn_ops) with keep_prob is deprecated and will be removed in a future version.\n",
      "Instructions for updating:\n",
      "Please use `rate` instead of `keep_prob`. Rate should be set to `rate = 1 - keep_prob`.\n",
      "('loading ', '/home/moritz/Documents/contact_graspnet_benchmark/contact_graspnet_benchmark/orig/checkpoints/scene_test_2048_bs3_hor_sigma_001/model.ckpt-54054')\n",
      "INFO:tensorflow:Restoring parameters from /home/moritz/Documents/contact_graspnet_benchmark/contact_graspnet_benchmark/orig/checkpoints/scene_test_2048_bs3_hor_sigma_001/model.ckpt-54054\n"
     ]
    },
    {
     "name": "stderr",
     "output_type": "stream",
     "text": [
      "2023-01-31 11:47:56.209939: I tensorflow/core/platform/cpu_feature_guard.cc:193] This TensorFlow binary is optimized with oneAPI Deep Neural Network Library (oneDNN) to use the following CPU instructions in performance-critical operations:  AVX2 FMA\n",
      "To enable them in other operations, rebuild TensorFlow with the appropriate compiler flags.\n",
      "2023-01-31 11:47:56.210445: I tensorflow/compiler/xla/stream_executor/cuda/cuda_gpu_executor.cc:981] successful NUMA node read from SysFS had negative value (-1), but there must be at least one NUMA node, so returning NUMA node zero\n",
      "2023-01-31 11:47:56.210667: W tensorflow/core/common_runtime/gpu/gpu_device.cc:1934] Cannot dlopen some GPU libraries. Please make sure the missing libraries mentioned above are installed properly if you would like to use GPU. Follow the guide at https://www.tensorflow.org/install/gpu for how to download and setup the required libraries for your platform.\n",
      "Skipping registering GPU devices...\n",
      "2023-01-31 11:47:56.335255: I tensorflow/compiler/mlir/mlir_graph_optimization_pass.cc:357] MLIR V1 optimization pass is not enabled\n"
     ]
    },
    {
     "ename": "InvalidArgumentError",
     "evalue": "Restoring from checkpoint failed. This is most likely due to a mismatch between the current graph and the graph from the checkpoint. Please ensure that you have not altered the graph expected based on the checkpoint. Original error:\n\nGraph execution error:\n\nDetected at node 'layer1/FarthestPointSample' defined at (most recent call last):\n    File \"/home/moritz/mambaforge/envs/contact_graspnet/lib/python3.10/runpy.py\", line 196, in _run_module_as_main\n      return _run_code(code, main_globals, None,\n    File \"/home/moritz/mambaforge/envs/contact_graspnet/lib/python3.10/runpy.py\", line 86, in _run_code\n      exec(code, run_globals)\n    File \"/home/moritz/mambaforge/envs/contact_graspnet/lib/python3.10/site-packages/ipykernel_launcher.py\", line 17, in <module>\n      app.launch_new_instance()\n    File \"/home/moritz/mambaforge/envs/contact_graspnet/lib/python3.10/site-packages/traitlets/config/application.py\", line 1041, in launch_instance\n      app.start()\n    File \"/home/moritz/mambaforge/envs/contact_graspnet/lib/python3.10/site-packages/ipykernel/kernelapp.py\", line 724, in start\n      self.io_loop.start()\n    File \"/home/moritz/mambaforge/envs/contact_graspnet/lib/python3.10/site-packages/tornado/platform/asyncio.py\", line 215, in start\n      self.asyncio_loop.run_forever()\n    File \"/home/moritz/mambaforge/envs/contact_graspnet/lib/python3.10/asyncio/base_events.py\", line 603, in run_forever\n      self._run_once()\n    File \"/home/moritz/mambaforge/envs/contact_graspnet/lib/python3.10/asyncio/base_events.py\", line 1899, in _run_once\n      handle._run()\n    File \"/home/moritz/mambaforge/envs/contact_graspnet/lib/python3.10/asyncio/events.py\", line 80, in _run\n      self._context.run(self._callback, *self._args)\n    File \"/home/moritz/mambaforge/envs/contact_graspnet/lib/python3.10/site-packages/ipykernel/kernelbase.py\", line 512, in dispatch_queue\n      await self.process_one()\n    File \"/home/moritz/mambaforge/envs/contact_graspnet/lib/python3.10/site-packages/ipykernel/kernelbase.py\", line 501, in process_one\n      await dispatch(*args)\n    File \"/home/moritz/mambaforge/envs/contact_graspnet/lib/python3.10/site-packages/ipykernel/kernelbase.py\", line 408, in dispatch_shell\n      await result\n    File \"/home/moritz/mambaforge/envs/contact_graspnet/lib/python3.10/site-packages/ipykernel/kernelbase.py\", line 731, in execute_request\n      reply_content = await reply_content\n    File \"/home/moritz/mambaforge/envs/contact_graspnet/lib/python3.10/site-packages/ipykernel/ipkernel.py\", line 417, in do_execute\n      res = shell.run_cell(\n    File \"/home/moritz/mambaforge/envs/contact_graspnet/lib/python3.10/site-packages/ipykernel/zmqshell.py\", line 540, in run_cell\n      return super().run_cell(*args, **kwargs)\n    File \"/home/moritz/mambaforge/envs/contact_graspnet/lib/python3.10/site-packages/IPython/core/interactiveshell.py\", line 2945, in run_cell\n      result = self._run_cell(\n    File \"/home/moritz/mambaforge/envs/contact_graspnet/lib/python3.10/site-packages/IPython/core/interactiveshell.py\", line 3000, in _run_cell\n      return runner(coro)\n    File \"/home/moritz/mambaforge/envs/contact_graspnet/lib/python3.10/site-packages/IPython/core/async_helpers.py\", line 129, in _pseudo_sync_runner\n      coro.send(None)\n    File \"/home/moritz/mambaforge/envs/contact_graspnet/lib/python3.10/site-packages/IPython/core/interactiveshell.py\", line 3203, in run_cell_async\n      has_raised = await self.run_ast_nodes(code_ast.body, cell_name,\n    File \"/home/moritz/mambaforge/envs/contact_graspnet/lib/python3.10/site-packages/IPython/core/interactiveshell.py\", line 3382, in run_ast_nodes\n      if await self.run_code(code, result, async_=asy):\n    File \"/home/moritz/mambaforge/envs/contact_graspnet/lib/python3.10/site-packages/IPython/core/interactiveshell.py\", line 3442, in run_code\n      exec(code_obj, self.user_global_ns, self.user_ns)\n    File \"/tmp/ipykernel_14499/1965783216.py\", line 1, in <module>\n      e2e_processor = End2EndProcessor(\n    File \"/home/moritz/Documents/contact_graspnet_benchmark/contact_graspnet_benchmark/utils/processing.py\", line 32, in __init__\n      self.grasp_estimator.build_network()\n    File \"/home/moritz/Documents/contact_graspnet_benchmark/contact_graspnet_benchmark/orig/contact_graspnet/contact_grasp_estimator.py\", line 85, in build_network\n      end_points = contact_graspnet.get_model(\n    File \"/home/moritz/Documents/contact_graspnet_benchmark/contact_graspnet_benchmark/orig/contact_graspnet/contact_graspnet.py\", line 123, in get_model\n      l1_xyz, l1_points = pointnet_sa_module_msg(l0_xyz, l0_points, npoint_0, radius_list_0, nsample_list_0, mlp_list_0, is_training, bn_decay, scope='layer1')\n    File \"/home/moritz/Documents/contact_graspnet_benchmark/contact_graspnet_benchmark/orig/pointnet2/utils/pointnet_util.py\", line 187, in pointnet_sa_module_msg\n      new_xyz = gather_point(xyz, farthest_point_sample(npoint, xyz))\n    File \"/home/moritz/Documents/contact_graspnet_benchmark/contact_graspnet_benchmark/orig/pointnet2/tf_ops/sampling/tf_sampling.py\", line 62, in farthest_point_sample\n      return sampling_module.farthest_point_sample(inp, npoint)\n    File \"<string>\", line 156, in farthest_point_sample\nNode: 'layer1/FarthestPointSample'\nNo OpKernel was registered to support Op 'FarthestPointSample' used by {{node layer1/FarthestPointSample}} with these attrs: [npoint=2048]\nRegistered devices: [CPU]\nRegistered kernels:\n  device='GPU'\n\n\t [[layer1/FarthestPointSample]]",
     "output_type": "error",
     "traceback": [
      "\u001b[0;31m---------------------------------------------------------------------------\u001b[0m",
      "\u001b[0;31mInvalidArgumentError\u001b[0m                      Traceback (most recent call last)",
      "File \u001b[0;32m~/mambaforge/envs/contact_graspnet/lib/python3.10/site-packages/tensorflow/python/client/session.py:1378\u001b[0m, in \u001b[0;36mBaseSession._do_call\u001b[0;34m(self, fn, *args)\u001b[0m\n\u001b[1;32m   1377\u001b[0m \u001b[39mtry\u001b[39;00m:\n\u001b[0;32m-> 1378\u001b[0m   \u001b[39mreturn\u001b[39;00m fn(\u001b[39m*\u001b[39;49margs)\n\u001b[1;32m   1379\u001b[0m \u001b[39mexcept\u001b[39;00m errors\u001b[39m.\u001b[39mOpError \u001b[39mas\u001b[39;00m e:\n",
      "File \u001b[0;32m~/mambaforge/envs/contact_graspnet/lib/python3.10/site-packages/tensorflow/python/client/session.py:1360\u001b[0m, in \u001b[0;36mBaseSession._do_run.<locals>._run_fn\u001b[0;34m(feed_dict, fetch_list, target_list, options, run_metadata)\u001b[0m\n\u001b[1;32m   1358\u001b[0m \u001b[39mdef\u001b[39;00m \u001b[39m_run_fn\u001b[39m(feed_dict, fetch_list, target_list, options, run_metadata):\n\u001b[1;32m   1359\u001b[0m   \u001b[39m# Ensure any changes to the graph are reflected in the runtime.\u001b[39;00m\n\u001b[0;32m-> 1360\u001b[0m   \u001b[39mself\u001b[39;49m\u001b[39m.\u001b[39;49m_extend_graph()\n\u001b[1;32m   1361\u001b[0m   \u001b[39mreturn\u001b[39;00m \u001b[39mself\u001b[39m\u001b[39m.\u001b[39m_call_tf_sessionrun(options, feed_dict, fetch_list,\n\u001b[1;32m   1362\u001b[0m                                   target_list, run_metadata)\n",
      "File \u001b[0;32m~/mambaforge/envs/contact_graspnet/lib/python3.10/site-packages/tensorflow/python/client/session.py:1401\u001b[0m, in \u001b[0;36mBaseSession._extend_graph\u001b[0;34m(self)\u001b[0m\n\u001b[1;32m   1400\u001b[0m \u001b[39mwith\u001b[39;00m \u001b[39mself\u001b[39m\u001b[39m.\u001b[39m_graph\u001b[39m.\u001b[39m_session_run_lock():  \u001b[39m# pylint: disable=protected-access\u001b[39;00m\n\u001b[0;32m-> 1401\u001b[0m   tf_session\u001b[39m.\u001b[39;49mExtendSession(\u001b[39mself\u001b[39;49m\u001b[39m.\u001b[39;49m_session)\n",
      "\u001b[0;31mInvalidArgumentError\u001b[0m: No OpKernel was registered to support Op 'FarthestPointSample' used by {{node layer1/FarthestPointSample}} with these attrs: [npoint=2048]\nRegistered devices: [CPU]\nRegistered kernels:\n  device='GPU'\n\n\t [[layer1/FarthestPointSample]]",
      "\nDuring handling of the above exception, another exception occurred:\n",
      "\u001b[0;31mInvalidArgumentError\u001b[0m                      Traceback (most recent call last)",
      "File \u001b[0;32m~/mambaforge/envs/contact_graspnet/lib/python3.10/site-packages/tensorflow/python/training/saver.py:1415\u001b[0m, in \u001b[0;36mSaver.restore\u001b[0;34m(self, sess, save_path)\u001b[0m\n\u001b[1;32m   1414\u001b[0m   \u001b[39melse\u001b[39;00m:\n\u001b[0;32m-> 1415\u001b[0m     sess\u001b[39m.\u001b[39;49mrun(\u001b[39mself\u001b[39;49m\u001b[39m.\u001b[39;49msaver_def\u001b[39m.\u001b[39;49mrestore_op_name,\n\u001b[1;32m   1416\u001b[0m              {\u001b[39mself\u001b[39;49m\u001b[39m.\u001b[39;49msaver_def\u001b[39m.\u001b[39;49mfilename_tensor_name: save_path})\n\u001b[1;32m   1417\u001b[0m \u001b[39mexcept\u001b[39;00m errors\u001b[39m.\u001b[39mNotFoundError \u001b[39mas\u001b[39;00m err:\n\u001b[1;32m   1418\u001b[0m   \u001b[39m# There are three common conditions that might cause this error:\u001b[39;00m\n\u001b[1;32m   1419\u001b[0m   \u001b[39m# 0. The file is missing. We ignore here, as this is checked above.\u001b[39;00m\n\u001b[0;32m   (...)\u001b[0m\n\u001b[1;32m   1423\u001b[0m   \u001b[39m# 1. The checkpoint would not be loaded successfully as is. Try to parse\u001b[39;00m\n\u001b[1;32m   1424\u001b[0m   \u001b[39m# it as an object-based checkpoint.\u001b[39;00m\n",
      "File \u001b[0;32m~/mambaforge/envs/contact_graspnet/lib/python3.10/site-packages/tensorflow/python/client/session.py:968\u001b[0m, in \u001b[0;36mBaseSession.run\u001b[0;34m(self, fetches, feed_dict, options, run_metadata)\u001b[0m\n\u001b[1;32m    967\u001b[0m \u001b[39mtry\u001b[39;00m:\n\u001b[0;32m--> 968\u001b[0m   result \u001b[39m=\u001b[39m \u001b[39mself\u001b[39;49m\u001b[39m.\u001b[39;49m_run(\u001b[39mNone\u001b[39;49;00m, fetches, feed_dict, options_ptr,\n\u001b[1;32m    969\u001b[0m                      run_metadata_ptr)\n\u001b[1;32m    970\u001b[0m   \u001b[39mif\u001b[39;00m run_metadata:\n",
      "File \u001b[0;32m~/mambaforge/envs/contact_graspnet/lib/python3.10/site-packages/tensorflow/python/client/session.py:1191\u001b[0m, in \u001b[0;36mBaseSession._run\u001b[0;34m(self, handle, fetches, feed_dict, options, run_metadata)\u001b[0m\n\u001b[1;32m   1190\u001b[0m \u001b[39mif\u001b[39;00m final_fetches \u001b[39mor\u001b[39;00m final_targets \u001b[39mor\u001b[39;00m (handle \u001b[39mand\u001b[39;00m feed_dict_tensor):\n\u001b[0;32m-> 1191\u001b[0m   results \u001b[39m=\u001b[39m \u001b[39mself\u001b[39;49m\u001b[39m.\u001b[39;49m_do_run(handle, final_targets, final_fetches,\n\u001b[1;32m   1192\u001b[0m                          feed_dict_tensor, options, run_metadata)\n\u001b[1;32m   1193\u001b[0m \u001b[39melse\u001b[39;00m:\n",
      "File \u001b[0;32m~/mambaforge/envs/contact_graspnet/lib/python3.10/site-packages/tensorflow/python/client/session.py:1371\u001b[0m, in \u001b[0;36mBaseSession._do_run\u001b[0;34m(self, handle, target_list, fetch_list, feed_dict, options, run_metadata)\u001b[0m\n\u001b[1;32m   1370\u001b[0m \u001b[39mif\u001b[39;00m handle \u001b[39mis\u001b[39;00m \u001b[39mNone\u001b[39;00m:\n\u001b[0;32m-> 1371\u001b[0m   \u001b[39mreturn\u001b[39;00m \u001b[39mself\u001b[39;49m\u001b[39m.\u001b[39;49m_do_call(_run_fn, feeds, fetches, targets, options,\n\u001b[1;32m   1372\u001b[0m                        run_metadata)\n\u001b[1;32m   1373\u001b[0m \u001b[39melse\u001b[39;00m:\n",
      "File \u001b[0;32m~/mambaforge/envs/contact_graspnet/lib/python3.10/site-packages/tensorflow/python/client/session.py:1397\u001b[0m, in \u001b[0;36mBaseSession._do_call\u001b[0;34m(self, fn, *args)\u001b[0m\n\u001b[1;32m   1393\u001b[0m   message \u001b[39m+\u001b[39m\u001b[39m=\u001b[39m (\u001b[39m'\u001b[39m\u001b[39m\\n\u001b[39;00m\u001b[39mA possible workaround: Try disabling Grappler optimizer\u001b[39m\u001b[39m'\u001b[39m\n\u001b[1;32m   1394\u001b[0m               \u001b[39m'\u001b[39m\u001b[39m\\n\u001b[39;00m\u001b[39mby modifying the config for creating the session eg.\u001b[39m\u001b[39m'\u001b[39m\n\u001b[1;32m   1395\u001b[0m               \u001b[39m'\u001b[39m\u001b[39m\\n\u001b[39;00m\u001b[39msession_config.graph_options.rewrite_options.\u001b[39m\u001b[39m'\u001b[39m\n\u001b[1;32m   1396\u001b[0m               \u001b[39m'\u001b[39m\u001b[39mdisable_meta_optimizer = True\u001b[39m\u001b[39m'\u001b[39m)\n\u001b[0;32m-> 1397\u001b[0m \u001b[39mraise\u001b[39;00m \u001b[39mtype\u001b[39m(e)(node_def, op, message)\n",
      "\u001b[0;31mInvalidArgumentError\u001b[0m: Graph execution error:\n\nDetected at node 'layer1/FarthestPointSample' defined at (most recent call last):\n    File \"/home/moritz/mambaforge/envs/contact_graspnet/lib/python3.10/runpy.py\", line 196, in _run_module_as_main\n      return _run_code(code, main_globals, None,\n    File \"/home/moritz/mambaforge/envs/contact_graspnet/lib/python3.10/runpy.py\", line 86, in _run_code\n      exec(code, run_globals)\n    File \"/home/moritz/mambaforge/envs/contact_graspnet/lib/python3.10/site-packages/ipykernel_launcher.py\", line 17, in <module>\n      app.launch_new_instance()\n    File \"/home/moritz/mambaforge/envs/contact_graspnet/lib/python3.10/site-packages/traitlets/config/application.py\", line 1041, in launch_instance\n      app.start()\n    File \"/home/moritz/mambaforge/envs/contact_graspnet/lib/python3.10/site-packages/ipykernel/kernelapp.py\", line 724, in start\n      self.io_loop.start()\n    File \"/home/moritz/mambaforge/envs/contact_graspnet/lib/python3.10/site-packages/tornado/platform/asyncio.py\", line 215, in start\n      self.asyncio_loop.run_forever()\n    File \"/home/moritz/mambaforge/envs/contact_graspnet/lib/python3.10/asyncio/base_events.py\", line 603, in run_forever\n      self._run_once()\n    File \"/home/moritz/mambaforge/envs/contact_graspnet/lib/python3.10/asyncio/base_events.py\", line 1899, in _run_once\n      handle._run()\n    File \"/home/moritz/mambaforge/envs/contact_graspnet/lib/python3.10/asyncio/events.py\", line 80, in _run\n      self._context.run(self._callback, *self._args)\n    File \"/home/moritz/mambaforge/envs/contact_graspnet/lib/python3.10/site-packages/ipykernel/kernelbase.py\", line 512, in dispatch_queue\n      await self.process_one()\n    File \"/home/moritz/mambaforge/envs/contact_graspnet/lib/python3.10/site-packages/ipykernel/kernelbase.py\", line 501, in process_one\n      await dispatch(*args)\n    File \"/home/moritz/mambaforge/envs/contact_graspnet/lib/python3.10/site-packages/ipykernel/kernelbase.py\", line 408, in dispatch_shell\n      await result\n    File \"/home/moritz/mambaforge/envs/contact_graspnet/lib/python3.10/site-packages/ipykernel/kernelbase.py\", line 731, in execute_request\n      reply_content = await reply_content\n    File \"/home/moritz/mambaforge/envs/contact_graspnet/lib/python3.10/site-packages/ipykernel/ipkernel.py\", line 417, in do_execute\n      res = shell.run_cell(\n    File \"/home/moritz/mambaforge/envs/contact_graspnet/lib/python3.10/site-packages/ipykernel/zmqshell.py\", line 540, in run_cell\n      return super().run_cell(*args, **kwargs)\n    File \"/home/moritz/mambaforge/envs/contact_graspnet/lib/python3.10/site-packages/IPython/core/interactiveshell.py\", line 2945, in run_cell\n      result = self._run_cell(\n    File \"/home/moritz/mambaforge/envs/contact_graspnet/lib/python3.10/site-packages/IPython/core/interactiveshell.py\", line 3000, in _run_cell\n      return runner(coro)\n    File \"/home/moritz/mambaforge/envs/contact_graspnet/lib/python3.10/site-packages/IPython/core/async_helpers.py\", line 129, in _pseudo_sync_runner\n      coro.send(None)\n    File \"/home/moritz/mambaforge/envs/contact_graspnet/lib/python3.10/site-packages/IPython/core/interactiveshell.py\", line 3203, in run_cell_async\n      has_raised = await self.run_ast_nodes(code_ast.body, cell_name,\n    File \"/home/moritz/mambaforge/envs/contact_graspnet/lib/python3.10/site-packages/IPython/core/interactiveshell.py\", line 3382, in run_ast_nodes\n      if await self.run_code(code, result, async_=asy):\n    File \"/home/moritz/mambaforge/envs/contact_graspnet/lib/python3.10/site-packages/IPython/core/interactiveshell.py\", line 3442, in run_code\n      exec(code_obj, self.user_global_ns, self.user_ns)\n    File \"/tmp/ipykernel_14499/1965783216.py\", line 1, in <module>\n      e2e_processor = End2EndProcessor(\n    File \"/home/moritz/Documents/contact_graspnet_benchmark/contact_graspnet_benchmark/utils/processing.py\", line 32, in __init__\n      self.grasp_estimator.build_network()\n    File \"/home/moritz/Documents/contact_graspnet_benchmark/contact_graspnet_benchmark/orig/contact_graspnet/contact_grasp_estimator.py\", line 85, in build_network\n      end_points = contact_graspnet.get_model(\n    File \"/home/moritz/Documents/contact_graspnet_benchmark/contact_graspnet_benchmark/orig/contact_graspnet/contact_graspnet.py\", line 123, in get_model\n      l1_xyz, l1_points = pointnet_sa_module_msg(l0_xyz, l0_points, npoint_0, radius_list_0, nsample_list_0, mlp_list_0, is_training, bn_decay, scope='layer1')\n    File \"/home/moritz/Documents/contact_graspnet_benchmark/contact_graspnet_benchmark/orig/pointnet2/utils/pointnet_util.py\", line 187, in pointnet_sa_module_msg\n      new_xyz = gather_point(xyz, farthest_point_sample(npoint, xyz))\n    File \"/home/moritz/Documents/contact_graspnet_benchmark/contact_graspnet_benchmark/orig/pointnet2/tf_ops/sampling/tf_sampling.py\", line 62, in farthest_point_sample\n      return sampling_module.farthest_point_sample(inp, npoint)\n    File \"<string>\", line 156, in farthest_point_sample\nNode: 'layer1/FarthestPointSample'\nNo OpKernel was registered to support Op 'FarthestPointSample' used by {{node layer1/FarthestPointSample}} with these attrs: [npoint=2048]\nRegistered devices: [CPU]\nRegistered kernels:\n  device='GPU'\n\n\t [[layer1/FarthestPointSample]]",
      "\nDuring handling of the above exception, another exception occurred:\n",
      "\u001b[0;31mInvalidArgumentError\u001b[0m                      Traceback (most recent call last)",
      "Cell \u001b[0;32mIn[5], line 1\u001b[0m\n\u001b[0;32m----> 1\u001b[0m e2e_processor \u001b[39m=\u001b[39m End2EndProcessor(\n\u001b[1;32m      2\u001b[0m     checkpoint_dir\u001b[39m=\u001b[39;49mPath\u001b[39m.\u001b[39;49mcwd()\u001b[39m.\u001b[39;49mparent\n\u001b[1;32m      3\u001b[0m     \u001b[39m/\u001b[39;49m \u001b[39m\"\u001b[39;49m\u001b[39mcontact_graspnet_benchmark\u001b[39;49m\u001b[39m\"\u001b[39;49m\n\u001b[1;32m      4\u001b[0m     \u001b[39m/\u001b[39;49m \u001b[39m\"\u001b[39;49m\u001b[39morig\u001b[39;49m\u001b[39m\"\u001b[39;49m\n\u001b[1;32m      5\u001b[0m     \u001b[39m/\u001b[39;49m \u001b[39m\"\u001b[39;49m\u001b[39mcheckpoints\u001b[39;49m\u001b[39m\"\u001b[39;49m\n\u001b[1;32m      6\u001b[0m     \u001b[39m/\u001b[39;49m \u001b[39m\"\u001b[39;49m\u001b[39mscene_test_2048_bs3_hor_sigma_001\u001b[39;49m\u001b[39m\"\u001b[39;49m\n\u001b[1;32m      7\u001b[0m )\n",
      "File \u001b[0;32m~/Documents/contact_graspnet_benchmark/contact_graspnet_benchmark/utils/processing.py:41\u001b[0m, in \u001b[0;36mEnd2EndProcessor.__init__\u001b[0;34m(self, checkpoint_dir, forward_passes)\u001b[0m\n\u001b[1;32m     38\u001b[0m \u001b[39mself\u001b[39m\u001b[39m.\u001b[39mconfig\u001b[39m.\u001b[39mallow_soft_placement \u001b[39m=\u001b[39m \u001b[39mTrue\u001b[39;00m\n\u001b[1;32m     39\u001b[0m \u001b[39mself\u001b[39m\u001b[39m.\u001b[39msess \u001b[39m=\u001b[39m tf\u001b[39m.\u001b[39mSession(config\u001b[39m=\u001b[39m\u001b[39mself\u001b[39m\u001b[39m.\u001b[39mconfig)\n\u001b[0;32m---> 41\u001b[0m \u001b[39mself\u001b[39;49m\u001b[39m.\u001b[39;49mgrasp_estimator\u001b[39m.\u001b[39;49mload_weights(\n\u001b[1;32m     42\u001b[0m     \u001b[39mself\u001b[39;49m\u001b[39m.\u001b[39;49msess, \u001b[39mself\u001b[39;49m\u001b[39m.\u001b[39;49msaver, \u001b[39mself\u001b[39;49m\u001b[39m.\u001b[39;49mcheckpoint_dir, mode\u001b[39m=\u001b[39;49m\u001b[39m\"\u001b[39;49m\u001b[39mtest\u001b[39;49m\u001b[39m\"\u001b[39;49m\n\u001b[1;32m     43\u001b[0m )\n",
      "File \u001b[0;32m~/Documents/contact_graspnet_benchmark/contact_graspnet_benchmark/orig/contact_graspnet/contact_grasp_estimator.py:155\u001b[0m, in \u001b[0;36mGraspEstimator.load_weights\u001b[0;34m(self, sess, saver, log_dir, mode)\u001b[0m\n\u001b[1;32m    153\u001b[0m \u001b[39mif\u001b[39;00m chkpt \u001b[39mand\u001b[39;00m chkpt\u001b[39m.\u001b[39mmodel_checkpoint_path:\n\u001b[1;32m    154\u001b[0m     \u001b[39mprint\u001b[39m((\u001b[39m\"\u001b[39m\u001b[39mloading \u001b[39m\u001b[39m\"\u001b[39m, chkpt\u001b[39m.\u001b[39mmodel_checkpoint_path))\n\u001b[0;32m--> 155\u001b[0m     saver\u001b[39m.\u001b[39;49mrestore(sess, chkpt\u001b[39m.\u001b[39;49mmodel_checkpoint_path)\n\u001b[1;32m    156\u001b[0m \u001b[39melse\u001b[39;00m:\n\u001b[1;32m    157\u001b[0m     \u001b[39mif\u001b[39;00m mode \u001b[39m==\u001b[39m \u001b[39m\"\u001b[39m\u001b[39mtest\u001b[39m\u001b[39m\"\u001b[39m:\n",
      "File \u001b[0;32m~/mambaforge/envs/contact_graspnet/lib/python3.10/site-packages/tensorflow/python/training/saver.py:1451\u001b[0m, in \u001b[0;36mSaver.restore\u001b[0;34m(self, sess, save_path)\u001b[0m\n\u001b[1;32m   1447\u001b[0m   \u001b[39mself\u001b[39m\u001b[39m.\u001b[39m_object_restore_saver\u001b[39m.\u001b[39mrestore(sess\u001b[39m=\u001b[39msess, save_path\u001b[39m=\u001b[39msave_path)\n\u001b[1;32m   1448\u001b[0m \u001b[39mexcept\u001b[39;00m errors\u001b[39m.\u001b[39mInvalidArgumentError \u001b[39mas\u001b[39;00m err:\n\u001b[1;32m   1449\u001b[0m   \u001b[39m# There is a mismatch between the graph and the checkpoint being loaded.\u001b[39;00m\n\u001b[1;32m   1450\u001b[0m   \u001b[39m# We add a more reasonable error message here to help users (b/110263146)\u001b[39;00m\n\u001b[0;32m-> 1451\u001b[0m   \u001b[39mraise\u001b[39;00m _wrap_restore_error_with_msg(\n\u001b[1;32m   1452\u001b[0m       err, \u001b[39m\"\u001b[39m\u001b[39ma mismatch between the current graph and the graph\u001b[39m\u001b[39m\"\u001b[39m)\n\u001b[1;32m   1453\u001b[0m metrics\u001b[39m.\u001b[39mAddCheckpointReadDuration(\n\u001b[1;32m   1454\u001b[0m     api_label\u001b[39m=\u001b[39m_SAVER_LABEL,\n\u001b[1;32m   1455\u001b[0m     microseconds\u001b[39m=\u001b[39m_get_duration_microseconds(start_time, time\u001b[39m.\u001b[39mtime()))\n",
      "\u001b[0;31mInvalidArgumentError\u001b[0m: Restoring from checkpoint failed. This is most likely due to a mismatch between the current graph and the graph from the checkpoint. Please ensure that you have not altered the graph expected based on the checkpoint. Original error:\n\nGraph execution error:\n\nDetected at node 'layer1/FarthestPointSample' defined at (most recent call last):\n    File \"/home/moritz/mambaforge/envs/contact_graspnet/lib/python3.10/runpy.py\", line 196, in _run_module_as_main\n      return _run_code(code, main_globals, None,\n    File \"/home/moritz/mambaforge/envs/contact_graspnet/lib/python3.10/runpy.py\", line 86, in _run_code\n      exec(code, run_globals)\n    File \"/home/moritz/mambaforge/envs/contact_graspnet/lib/python3.10/site-packages/ipykernel_launcher.py\", line 17, in <module>\n      app.launch_new_instance()\n    File \"/home/moritz/mambaforge/envs/contact_graspnet/lib/python3.10/site-packages/traitlets/config/application.py\", line 1041, in launch_instance\n      app.start()\n    File \"/home/moritz/mambaforge/envs/contact_graspnet/lib/python3.10/site-packages/ipykernel/kernelapp.py\", line 724, in start\n      self.io_loop.start()\n    File \"/home/moritz/mambaforge/envs/contact_graspnet/lib/python3.10/site-packages/tornado/platform/asyncio.py\", line 215, in start\n      self.asyncio_loop.run_forever()\n    File \"/home/moritz/mambaforge/envs/contact_graspnet/lib/python3.10/asyncio/base_events.py\", line 603, in run_forever\n      self._run_once()\n    File \"/home/moritz/mambaforge/envs/contact_graspnet/lib/python3.10/asyncio/base_events.py\", line 1899, in _run_once\n      handle._run()\n    File \"/home/moritz/mambaforge/envs/contact_graspnet/lib/python3.10/asyncio/events.py\", line 80, in _run\n      self._context.run(self._callback, *self._args)\n    File \"/home/moritz/mambaforge/envs/contact_graspnet/lib/python3.10/site-packages/ipykernel/kernelbase.py\", line 512, in dispatch_queue\n      await self.process_one()\n    File \"/home/moritz/mambaforge/envs/contact_graspnet/lib/python3.10/site-packages/ipykernel/kernelbase.py\", line 501, in process_one\n      await dispatch(*args)\n    File \"/home/moritz/mambaforge/envs/contact_graspnet/lib/python3.10/site-packages/ipykernel/kernelbase.py\", line 408, in dispatch_shell\n      await result\n    File \"/home/moritz/mambaforge/envs/contact_graspnet/lib/python3.10/site-packages/ipykernel/kernelbase.py\", line 731, in execute_request\n      reply_content = await reply_content\n    File \"/home/moritz/mambaforge/envs/contact_graspnet/lib/python3.10/site-packages/ipykernel/ipkernel.py\", line 417, in do_execute\n      res = shell.run_cell(\n    File \"/home/moritz/mambaforge/envs/contact_graspnet/lib/python3.10/site-packages/ipykernel/zmqshell.py\", line 540, in run_cell\n      return super().run_cell(*args, **kwargs)\n    File \"/home/moritz/mambaforge/envs/contact_graspnet/lib/python3.10/site-packages/IPython/core/interactiveshell.py\", line 2945, in run_cell\n      result = self._run_cell(\n    File \"/home/moritz/mambaforge/envs/contact_graspnet/lib/python3.10/site-packages/IPython/core/interactiveshell.py\", line 3000, in _run_cell\n      return runner(coro)\n    File \"/home/moritz/mambaforge/envs/contact_graspnet/lib/python3.10/site-packages/IPython/core/async_helpers.py\", line 129, in _pseudo_sync_runner\n      coro.send(None)\n    File \"/home/moritz/mambaforge/envs/contact_graspnet/lib/python3.10/site-packages/IPython/core/interactiveshell.py\", line 3203, in run_cell_async\n      has_raised = await self.run_ast_nodes(code_ast.body, cell_name,\n    File \"/home/moritz/mambaforge/envs/contact_graspnet/lib/python3.10/site-packages/IPython/core/interactiveshell.py\", line 3382, in run_ast_nodes\n      if await self.run_code(code, result, async_=asy):\n    File \"/home/moritz/mambaforge/envs/contact_graspnet/lib/python3.10/site-packages/IPython/core/interactiveshell.py\", line 3442, in run_code\n      exec(code_obj, self.user_global_ns, self.user_ns)\n    File \"/tmp/ipykernel_14499/1965783216.py\", line 1, in <module>\n      e2e_processor = End2EndProcessor(\n    File \"/home/moritz/Documents/contact_graspnet_benchmark/contact_graspnet_benchmark/utils/processing.py\", line 32, in __init__\n      self.grasp_estimator.build_network()\n    File \"/home/moritz/Documents/contact_graspnet_benchmark/contact_graspnet_benchmark/orig/contact_graspnet/contact_grasp_estimator.py\", line 85, in build_network\n      end_points = contact_graspnet.get_model(\n    File \"/home/moritz/Documents/contact_graspnet_benchmark/contact_graspnet_benchmark/orig/contact_graspnet/contact_graspnet.py\", line 123, in get_model\n      l1_xyz, l1_points = pointnet_sa_module_msg(l0_xyz, l0_points, npoint_0, radius_list_0, nsample_list_0, mlp_list_0, is_training, bn_decay, scope='layer1')\n    File \"/home/moritz/Documents/contact_graspnet_benchmark/contact_graspnet_benchmark/orig/pointnet2/utils/pointnet_util.py\", line 187, in pointnet_sa_module_msg\n      new_xyz = gather_point(xyz, farthest_point_sample(npoint, xyz))\n    File \"/home/moritz/Documents/contact_graspnet_benchmark/contact_graspnet_benchmark/orig/pointnet2/tf_ops/sampling/tf_sampling.py\", line 62, in farthest_point_sample\n      return sampling_module.farthest_point_sample(inp, npoint)\n    File \"<string>\", line 156, in farthest_point_sample\nNode: 'layer1/FarthestPointSample'\nNo OpKernel was registered to support Op 'FarthestPointSample' used by {{node layer1/FarthestPointSample}} with these attrs: [npoint=2048]\nRegistered devices: [CPU]\nRegistered kernels:\n  device='GPU'\n\n\t [[layer1/FarthestPointSample]]"
     ]
    }
   ],
   "source": [
    "e2e_processor = End2EndProcessor(\n",
    "    checkpoint_dir=Path.cwd().parent\n",
    "    / \"contact_graspnet_benchmark\"\n",
    "    / \"orig\"\n",
    "    / \"checkpoints\"\n",
    "    / \"scene_test_2048_bs3_hor_sigma_001\"\n",
    ")\n"
   ]
  },
  {
   "cell_type": "code",
   "execution_count": null,
   "metadata": {},
   "outputs": [],
   "source": [
    "result = e2e_processor(sample)"
   ]
  }
 ],
 "metadata": {
  "kernelspec": {
   "display_name": "Python 3.10.8",
   "language": "python",
   "name": "python3"
  },
  "language_info": {
   "codemirror_mode": {
    "name": "ipython",
    "version": 3
   },
   "file_extension": ".py",
   "mimetype": "text/x-python",
   "name": "python",
   "nbconvert_exporter": "python",
   "pygments_lexer": "ipython3",
   "version": "3.10.8"
  },
  "orig_nbformat": 4,
  "vscode": {
   "interpreter": {
    "hash": "a7d6cc0b766eee0adff00808e655bd8baa0441a11b11ed398c39cfbc87f3c009"
   }
  }
 },
 "nbformat": 4,
 "nbformat_minor": 2
}
