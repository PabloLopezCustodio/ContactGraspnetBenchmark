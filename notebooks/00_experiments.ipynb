{
 "cells": [
  {
   "cell_type": "code",
   "execution_count": 1,
   "metadata": {},
   "outputs": [
    {
     "name": "stderr",
     "output_type": "stream",
     "text": [
      "2023-01-31 14:23:43.299742: I tensorflow/core/platform/cpu_feature_guard.cc:193] This TensorFlow binary is optimized with oneAPI Deep Neural Network Library (oneDNN) to use the following CPU instructions in performance-critical operations:  AVX2 FMA\n",
      "To enable them in other operations, rebuild TensorFlow with the appropriate compiler flags.\n",
      "2023-01-31 14:23:44.508183: W tensorflow/compiler/xla/stream_executor/platform/default/dso_loader.cc:64] Could not load dynamic library 'libnvinfer.so.7'; dlerror: libnvinfer.so.7: cannot open shared object file: No such file or directory; LD_LIBRARY_PATH: /home/moritz/catkin_ws/devel/lib:/opt/ros/noetic/lib:/home/moritz/mambaforge/envs/contact_graspnet/lib/\n",
      "2023-01-31 14:23:44.508386: W tensorflow/compiler/xla/stream_executor/platform/default/dso_loader.cc:64] Could not load dynamic library 'libnvinfer_plugin.so.7'; dlerror: libnvinfer_plugin.so.7: cannot open shared object file: No such file or directory; LD_LIBRARY_PATH: /home/moritz/catkin_ws/devel/lib:/opt/ros/noetic/lib:/home/moritz/mambaforge/envs/contact_graspnet/lib/\n",
      "2023-01-31 14:23:44.508408: W tensorflow/compiler/tf2tensorrt/utils/py_utils.cc:38] TF-TRT Warning: Cannot dlopen some TensorRT libraries. If you would like to use Nvidia GPU with TensorRT, please make sure the missing libraries mentioned above are installed properly.\n"
     ]
    },
    {
     "name": "stdout",
     "output_type": "stream",
     "text": [
      "/home/moritz/Documents/contact_graspnet_benchmark/contact_graspnet_benchmark/orig/pointnet2/tf_ops/sampling\n"
     ]
    },
    {
     "name": "stderr",
     "output_type": "stream",
     "text": [
      "2023-01-31 14:23:46.285221: I tensorflow/compiler/xla/stream_executor/cuda/cuda_gpu_executor.cc:981] successful NUMA node read from SysFS had negative value (-1), but there must be at least one NUMA node, so returning NUMA node zero\n",
      "2023-01-31 14:23:46.293145: I tensorflow/compiler/xla/stream_executor/cuda/cuda_gpu_executor.cc:981] successful NUMA node read from SysFS had negative value (-1), but there must be at least one NUMA node, so returning NUMA node zero\n",
      "2023-01-31 14:23:46.293760: I tensorflow/compiler/xla/stream_executor/cuda/cuda_gpu_executor.cc:981] successful NUMA node read from SysFS had negative value (-1), but there must be at least one NUMA node, so returning NUMA node zero\n"
     ]
    }
   ],
   "source": [
    "%load_ext autoreload\n",
    "%autoreload 2\n",
    "\n",
    "from pathlib import Path\n",
    "\n",
    "from contact_graspnet_benchmark.orig.contact_graspnet.inference import inference\n",
    "from contact_graspnet_benchmark.orig.contact_graspnet import config_utils"
   ]
  },
  {
   "cell_type": "code",
   "execution_count": 2,
   "metadata": {},
   "outputs": [
    {
     "name": "stderr",
     "output_type": "stream",
     "text": [
      "/home/moritz/Documents/contact_graspnet_benchmark/contact_graspnet_benchmark/orig/contact_graspnet/config_utils.py:40: YAMLLoadWarning: calling yaml.load() without Loader=... is deprecated, as the default Loader is unsafe. Please read https://msg.pyyaml.org/load for full details.\n",
      "  global_config = yaml.load(f)\n"
     ]
    },
    {
     "name": "stdout",
     "output_type": "stream",
     "text": [
      "--- Get model\n",
      "WARNING:tensorflow:From /home/moritz/mambaforge/envs/contact_graspnet/lib/python3.10/site-packages/keras/layers/normalization/batch_normalization.py:561: _colocate_with (from tensorflow.python.framework.ops) is deprecated and will be removed in a future version.\n",
      "Instructions for updating:\n",
      "Colocations handled automatically by placer.\n"
     ]
    },
    {
     "name": "stderr",
     "output_type": "stream",
     "text": [
      "/home/moritz/Documents/contact_graspnet_benchmark/contact_graspnet_benchmark/orig/pointnet2/utils/tf_util.py:569: UserWarning: `tf.layers.batch_normalization` is deprecated and will be removed in a future version. Please use `tf.keras.layers.BatchNormalization` instead. In particular, `tf.control_dependencies(tf.GraphKeys.UPDATE_OPS)` should not be used (consult the `tf.keras.layers.BatchNormalization` documentation).\n",
      "  return tf.compat.v1.layers.batch_normalization(\n"
     ]
    },
    {
     "name": "stdout",
     "output_type": "stream",
     "text": [
      "WARNING:tensorflow:From /home/moritz/mambaforge/envs/contact_graspnet/lib/python3.10/site-packages/tensorflow/python/util/deprecation.py:629: calling conv1d (from tensorflow.python.ops.nn_ops) with data_format=NHWC is deprecated and will be removed in a future version.\n",
      "Instructions for updating:\n",
      "`NHWC` for data_format is deprecated, use `NWC` instead\n",
      "WARNING:tensorflow:From /home/moritz/mambaforge/envs/contact_graspnet/lib/python3.10/site-packages/tensorflow/python/util/dispatch.py:1176: calling dropout (from tensorflow.python.ops.nn_ops) with keep_prob is deprecated and will be removed in a future version.\n",
      "Instructions for updating:\n",
      "Please use `rate` instead of `keep_prob`. Rate should be set to `rate = 1 - keep_prob`.\n"
     ]
    },
    {
     "name": "stderr",
     "output_type": "stream",
     "text": [
      "2023-01-31 14:23:51.936933: I tensorflow/core/platform/cpu_feature_guard.cc:193] This TensorFlow binary is optimized with oneAPI Deep Neural Network Library (oneDNN) to use the following CPU instructions in performance-critical operations:  AVX2 FMA\n",
      "To enable them in other operations, rebuild TensorFlow with the appropriate compiler flags.\n",
      "2023-01-31 14:23:51.937443: I tensorflow/compiler/xla/stream_executor/cuda/cuda_gpu_executor.cc:981] successful NUMA node read from SysFS had negative value (-1), but there must be at least one NUMA node, so returning NUMA node zero\n",
      "2023-01-31 14:23:51.937806: I tensorflow/compiler/xla/stream_executor/cuda/cuda_gpu_executor.cc:981] successful NUMA node read from SysFS had negative value (-1), but there must be at least one NUMA node, so returning NUMA node zero\n",
      "2023-01-31 14:23:51.938098: I tensorflow/compiler/xla/stream_executor/cuda/cuda_gpu_executor.cc:981] successful NUMA node read from SysFS had negative value (-1), but there must be at least one NUMA node, so returning NUMA node zero\n"
     ]
    },
    {
     "name": "stdout",
     "output_type": "stream",
     "text": [
      "('loading ', '/home/moritz/Documents/contact_graspnet_benchmark/contact_graspnet_benchmark/orig/checkpoints/scene_test_2048_bs3_hor_sigma_001/model.ckpt-54054')\n",
      "INFO:tensorflow:Restoring parameters from /home/moritz/Documents/contact_graspnet_benchmark/contact_graspnet_benchmark/orig/checkpoints/scene_test_2048_bs3_hor_sigma_001/model.ckpt-54054\n"
     ]
    },
    {
     "name": "stderr",
     "output_type": "stream",
     "text": [
      "2023-01-31 14:23:52.787682: I tensorflow/compiler/xla/stream_executor/cuda/cuda_gpu_executor.cc:981] successful NUMA node read from SysFS had negative value (-1), but there must be at least one NUMA node, so returning NUMA node zero\n",
      "2023-01-31 14:23:52.788186: I tensorflow/compiler/xla/stream_executor/cuda/cuda_gpu_executor.cc:981] successful NUMA node read from SysFS had negative value (-1), but there must be at least one NUMA node, so returning NUMA node zero\n",
      "2023-01-31 14:23:52.788478: I tensorflow/compiler/xla/stream_executor/cuda/cuda_gpu_executor.cc:981] successful NUMA node read from SysFS had negative value (-1), but there must be at least one NUMA node, so returning NUMA node zero\n",
      "2023-01-31 14:23:52.788670: I tensorflow/core/common_runtime/gpu/gpu_device.cc:1613] Created device /job:localhost/replica:0/task:0/device:GPU:0 with 1605 MB memory:  -> device: 0, name: NVIDIA GeForce 940MX, pci bus id: 0000:01:00.0, compute capability: 5.0\n",
      "2023-01-31 14:23:52.856655: I tensorflow/compiler/mlir/mlir_graph_optimization_pass.cc:357] MLIR V1 optimization pass is not enabled\n"
     ]
    },
    {
     "ename": "TypeError",
     "evalue": "'PosixPath' object is not subscriptable",
     "output_type": "error",
     "traceback": [
      "\u001b[0;31m---------------------------------------------------------------------------\u001b[0m",
      "\u001b[0;31mTypeError\u001b[0m                                 Traceback (most recent call last)",
      "Cell \u001b[0;32mIn[2], line 1\u001b[0m\n\u001b[0;32m----> 1\u001b[0m inference(\n\u001b[1;32m      2\u001b[0m     config_utils\u001b[39m.\u001b[39;49mload_config(\u001b[39m\"\u001b[39;49m\u001b[39mcheckpoints/scene_test_2048_bs3_hor_sigma_001\u001b[39;49m\u001b[39m\"\u001b[39;49m, \u001b[39m1\u001b[39;49m),\n\u001b[1;32m      3\u001b[0m     \u001b[39mstr\u001b[39;49m(\n\u001b[1;32m      4\u001b[0m         Path\u001b[39m.\u001b[39;49mcwd()\u001b[39m.\u001b[39;49mparent\n\u001b[1;32m      5\u001b[0m         \u001b[39m/\u001b[39;49m \u001b[39m\"\u001b[39;49m\u001b[39mcontact_graspnet_benchmark\u001b[39;49m\u001b[39m\"\u001b[39;49m\n\u001b[1;32m      6\u001b[0m         \u001b[39m/\u001b[39;49m \u001b[39m\"\u001b[39;49m\u001b[39morig\u001b[39;49m\u001b[39m\"\u001b[39;49m\n\u001b[1;32m      7\u001b[0m         \u001b[39m/\u001b[39;49m \u001b[39m\"\u001b[39;49m\u001b[39mcheckpoints\u001b[39;49m\u001b[39m\"\u001b[39;49m\n\u001b[1;32m      8\u001b[0m         \u001b[39m/\u001b[39;49m \u001b[39m\"\u001b[39;49m\u001b[39mscene_test_2048_bs3_hor_sigma_001\u001b[39;49m\u001b[39m\"\u001b[39;49m,\n\u001b[1;32m      9\u001b[0m     ),\n\u001b[1;32m     10\u001b[0m     Path\u001b[39m.\u001b[39;49mcwd()\u001b[39m.\u001b[39;49mparent\n\u001b[1;32m     11\u001b[0m     \u001b[39m/\u001b[39;49m \u001b[39m\"\u001b[39;49m\u001b[39mcontact_graspnet_benchmark\u001b[39;49m\u001b[39m\"\u001b[39;49m\n\u001b[1;32m     12\u001b[0m     \u001b[39m/\u001b[39;49m \u001b[39m\"\u001b[39;49m\u001b[39morig\u001b[39;49m\u001b[39m\"\u001b[39;49m\n\u001b[1;32m     13\u001b[0m     \u001b[39m/\u001b[39;49m \u001b[39m\"\u001b[39;49m\u001b[39mexamples\u001b[39;49m\u001b[39m\"\u001b[39;49m\n\u001b[1;32m     14\u001b[0m     \u001b[39m/\u001b[39;49m \u001b[39m\"\u001b[39;49m\u001b[39mtest_data\u001b[39;49m\u001b[39m\"\u001b[39;49m\n\u001b[1;32m     15\u001b[0m     \u001b[39m/\u001b[39;49m \u001b[39m\"\u001b[39;49m\u001b[39m0.npy\u001b[39;49m\u001b[39m\"\u001b[39;49m,\n\u001b[1;32m     16\u001b[0m     z_range\u001b[39m=\u001b[39;49m[\u001b[39m0.2\u001b[39;49m, \u001b[39m1.8\u001b[39;49m],\n\u001b[1;32m     17\u001b[0m     K\u001b[39m=\u001b[39;49m\u001b[39mNone\u001b[39;49;00m,\n\u001b[1;32m     18\u001b[0m     local_regions\u001b[39m=\u001b[39;49m\u001b[39mFalse\u001b[39;49;00m,\n\u001b[1;32m     19\u001b[0m     filter_grasps\u001b[39m=\u001b[39;49m\u001b[39mFalse\u001b[39;49;00m,\n\u001b[1;32m     20\u001b[0m     segmap_id\u001b[39m=\u001b[39;49m\u001b[39m0\u001b[39;49m,\n\u001b[1;32m     21\u001b[0m     forward_passes\u001b[39m=\u001b[39;49m\u001b[39m1\u001b[39;49m,\n\u001b[1;32m     22\u001b[0m     skip_border_objects\u001b[39m=\u001b[39;49m\u001b[39mFalse\u001b[39;49;00m,\n\u001b[1;32m     23\u001b[0m )\n\u001b[1;32m     26\u001b[0m \u001b[39m# inference(\u001b[39;00m\n\u001b[1;32m     27\u001b[0m \u001b[39m#     config_utils.load_config(\"checkpoints/scene_test_2048_bs3_hor_sigma_001\", 1),\u001b[39;00m\n\u001b[1;32m     28\u001b[0m \u001b[39m#     \"checkpoints/scene_test_2048_bs3_hor_sigma_001\",\u001b[39;00m\n\u001b[0;32m   (...)\u001b[0m\n\u001b[1;32m     36\u001b[0m \u001b[39m#     skip_border_objects=False,\u001b[39;00m\n\u001b[1;32m     37\u001b[0m \u001b[39m# )\u001b[39;00m\n",
      "File \u001b[0;32m~/Documents/contact_graspnet_benchmark/contact_graspnet_benchmark/orig/contact_graspnet/inference.py:65\u001b[0m, in \u001b[0;36minference\u001b[0;34m(global_config, checkpoint_dir, input_paths, K, local_regions, skip_border_objects, filter_grasps, segmap_id, z_range, forward_passes)\u001b[0m\n\u001b[1;32m     62\u001b[0m os\u001b[39m.\u001b[39mmakedirs(\u001b[39m\"\u001b[39m\u001b[39mresults\u001b[39m\u001b[39m\"\u001b[39m, exist_ok\u001b[39m=\u001b[39m\u001b[39mTrue\u001b[39;00m)\n\u001b[1;32m     64\u001b[0m \u001b[39m# Process example test scenes\u001b[39;00m\n\u001b[0;32m---> 65\u001b[0m \u001b[39mfor\u001b[39;00m p \u001b[39min\u001b[39;00m glob\u001b[39m.\u001b[39;49mglob(input_paths):\n\u001b[1;32m     66\u001b[0m     \u001b[39mprint\u001b[39m(\u001b[39m\"\u001b[39m\u001b[39mLoading \u001b[39m\u001b[39m\"\u001b[39m, p)\n\u001b[1;32m     68\u001b[0m     pc_segments \u001b[39m=\u001b[39m {}\n",
      "File \u001b[0;32m~/mambaforge/envs/contact_graspnet/lib/python3.10/glob.py:24\u001b[0m, in \u001b[0;36mglob\u001b[0;34m(pathname, root_dir, dir_fd, recursive)\u001b[0m\n\u001b[1;32m     13\u001b[0m \u001b[39mdef\u001b[39;00m \u001b[39mglob\u001b[39m(pathname, \u001b[39m*\u001b[39m, root_dir\u001b[39m=\u001b[39m\u001b[39mNone\u001b[39;00m, dir_fd\u001b[39m=\u001b[39m\u001b[39mNone\u001b[39;00m, recursive\u001b[39m=\u001b[39m\u001b[39mFalse\u001b[39;00m):\n\u001b[1;32m     14\u001b[0m \u001b[39m    \u001b[39m\u001b[39m\"\"\"Return a list of paths matching a pathname pattern.\u001b[39;00m\n\u001b[1;32m     15\u001b[0m \n\u001b[1;32m     16\u001b[0m \u001b[39m    The pattern may contain simple shell-style wildcards a la\u001b[39;00m\n\u001b[0;32m   (...)\u001b[0m\n\u001b[1;32m     22\u001b[0m \u001b[39m    zero or more directories and subdirectories.\u001b[39;00m\n\u001b[1;32m     23\u001b[0m \u001b[39m    \"\"\"\u001b[39;00m\n\u001b[0;32m---> 24\u001b[0m     \u001b[39mreturn\u001b[39;00m \u001b[39mlist\u001b[39m(iglob(pathname, root_dir\u001b[39m=\u001b[39;49mroot_dir, dir_fd\u001b[39m=\u001b[39;49mdir_fd, recursive\u001b[39m=\u001b[39;49mrecursive))\n",
      "File \u001b[0;32m~/mambaforge/envs/contact_graspnet/lib/python3.10/glob.py:42\u001b[0m, in \u001b[0;36miglob\u001b[0;34m(pathname, root_dir, dir_fd, recursive)\u001b[0m\n\u001b[1;32m     40\u001b[0m     root_dir \u001b[39m=\u001b[39m os\u001b[39m.\u001b[39mfspath(root_dir)\n\u001b[1;32m     41\u001b[0m \u001b[39melse\u001b[39;00m:\n\u001b[0;32m---> 42\u001b[0m     root_dir \u001b[39m=\u001b[39m pathname[:\u001b[39m0\u001b[39;49m]\n\u001b[1;32m     43\u001b[0m it \u001b[39m=\u001b[39m _iglob(pathname, root_dir, dir_fd, recursive, \u001b[39mFalse\u001b[39;00m)\n\u001b[1;32m     44\u001b[0m \u001b[39mif\u001b[39;00m \u001b[39mnot\u001b[39;00m pathname \u001b[39mor\u001b[39;00m recursive \u001b[39mand\u001b[39;00m _isrecursive(pathname[:\u001b[39m2\u001b[39m]):\n",
      "\u001b[0;31mTypeError\u001b[0m: 'PosixPath' object is not subscriptable"
     ]
    }
   ],
   "source": [
    "inference(\n",
    "    config_utils.load_config(\"checkpoints/scene_test_2048_bs3_hor_sigma_001\", 1),\n",
    "    str(\n",
    "        Path.cwd().parent\n",
    "        / \"contact_graspnet_benchmark\"\n",
    "        / \"orig\"\n",
    "        / \"checkpoints\"\n",
    "        / \"scene_test_2048_bs3_hor_sigma_001\",\n",
    "    ),\n",
    "    str(Path.cwd().parent\n",
    "    / \"contact_graspnet_benchmark\"\n",
    "    / \"orig\"\n",
    "    / \"examples\"\n",
    "    / \"test_data\"\n",
    "    / \"0.npy\"),\n",
    "    z_range=[0.2, 1.8],\n",
    "    K=None,\n",
    "    local_regions=False,\n",
    "    filter_grasps=False,\n",
    "    segmap_id=0,\n",
    "    forward_passes=1,\n",
    "    skip_border_objects=False,\n",
    ")\n",
    "\n",
    "\n",
    "# inference(\n",
    "#     config_utils.load_config(\"checkpoints/scene_test_2048_bs3_hor_sigma_001\", 1),\n",
    "#     \"checkpoints/scene_test_2048_bs3_hor_sigma_001\",\n",
    "#     \"test_data/7.npy\",\n",
    "#     z_range=[0.2, 1.8],\n",
    "#     K=None,\n",
    "#     local_regions=False,\n",
    "#     filter_grasps=False,\n",
    "#     segmap_id=0,\n",
    "#     forward_passes=1,\n",
    "#     skip_border_objects=False,\n",
    "# )\n"
   ]
  }
 ],
 "metadata": {
  "kernelspec": {
   "display_name": "Python 3.10.8 ('contact_graspnet')",
   "language": "python",
   "name": "python3"
  },
  "language_info": {
   "codemirror_mode": {
    "name": "ipython",
    "version": 3
   },
   "file_extension": ".py",
   "mimetype": "text/x-python",
   "name": "python",
   "nbconvert_exporter": "python",
   "pygments_lexer": "ipython3",
   "version": "3.10.8"
  },
  "orig_nbformat": 4,
  "vscode": {
   "interpreter": {
    "hash": "a7d6cc0b766eee0adff00808e655bd8baa0441a11b11ed398c39cfbc87f3c009"
   }
  }
 },
 "nbformat": 4,
 "nbformat_minor": 2
}
